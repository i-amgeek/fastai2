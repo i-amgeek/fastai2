{
  "nbformat": 4,
  "nbformat_minor": 0,
  "metadata": {
    "kernelspec": {
      "display_name": "Python 3",
      "language": "python",
      "name": "python3"
    },
    "language_info": {
      "codemirror_mode": {
        "name": "ipython",
        "version": 3
      },
      "file_extension": ".py",
      "mimetype": "text/x-python",
      "name": "python",
      "nbconvert_exporter": "python",
      "pygments_lexer": "ipython3",
      "version": "3.7.6"
    },
    "colab": {
      "name": "deconv-fastai.ipynb",
      "provenance": [],
      "collapsed_sections": [
        "v-uD9-Dbnf8O",
        "dSZXNMCSmZJq"
      ],
      "toc_visible": true,
      "include_colab_link": true
    }
  },
  "cells": [
    {
      "cell_type": "markdown",
      "metadata": {
        "id": "view-in-github",
        "colab_type": "text"
      },
      "source": [
        "<a href=\"https://colab.research.google.com/github/i-amgeek/fastai2/blob/master/deconv_fastai.ipynb\" target=\"_parent\"><img src=\"https://colab.research.google.com/assets/colab-badge.svg\" alt=\"Open In Colab\"/></a>"
      ]
    },
    {
      "cell_type": "markdown",
      "metadata": {
        "id": "N3uvgfEFq48A",
        "colab_type": "text"
      },
      "source": [
        "In this notebook, I have experimented by combining [deconvolution](https://github.com/yechengxi/deconvolution/) with other techniques used for creating SOTA models like `mish`, `ranger`, `xresnet`, `MaxBlurPool` etc. **Outputs of cells contain head-on comparison of results with deconv and without deconv**.\n",
        "\n",
        "\n",
        "* In most runs, deconvolution have showed good improvements.\n",
        "\n",
        "* Most improvement was when I used deconv with ReLU and SGD. As I started implementing it with better techniques like Mish and Ranger, improvements decreased.\n",
        "\n",
        "* Every epoch with deconv took double time than without it. Although, I think, it can be improved using JIT and if im2col is implemented in C in `aten` library with other algorithims like [Winograd](https://blog.usejournal.com/understanding-winograd-fast-convolution-a75458744ff).\n",
        "\n",
        "**To run this notebook, install fastai2 by recursive cloning from [my fork](https://github.com/i-amgeek/fastai2) .**"
      ]
    },
    {
      "cell_type": "markdown",
      "metadata": {
        "id": "txtOJcltoJhw",
        "colab_type": "text"
      },
      "source": [
        "## Import modules and initialize functions"
      ]
    },
    {
      "cell_type": "markdown",
      "metadata": {
        "id": "AN3Lw5gjpEqT",
        "colab_type": "text"
      },
      "source": [
        "MaxBlurPool improved training speed as shown in this [paper](https://arxiv.org/pdf/1904.11486)."
      ]
    },
    {
      "cell_type": "code",
      "metadata": {
        "id": "7J7cIlTqAN43",
        "colab_type": "code",
        "colab": {}
      },
      "source": [
        "from kornia.contrib import MaxBlurPool2d\n",
        "\n",
        "# Adopted from \n",
        "# https://discuss.pytorch.org/t/how-can-i-replace-an-intermediate-layer-in-a-pre-trained-network/3586/7\n",
        "\n",
        "def convert_MP_to_blurMP(model, layer_type_old):\n",
        "    conversion_count = 0\n",
        "    for name, module in reversed(model._modules.items()):\n",
        "        if len(list(module.children())) > 0:\n",
        "            # recurse\n",
        "            model._modules[name] = convert_MP_to_blurMP(module, layer_type_old)\n",
        "\n",
        "        if type(module) == layer_type_old:\n",
        "            layer_old = module\n",
        "            layer_new = MaxBlurPool2d(3, True)\n",
        "            model._modules[name] = layer_new\n",
        "\n",
        "    return model"
      ],
      "execution_count": 0,
      "outputs": []
    },
    {
      "cell_type": "code",
      "metadata": {
        "id": "dJMrFb-kwP0N",
        "colab_type": "code",
        "colab": {}
      },
      "source": [
        "import torch\n",
        "from torch import nn as nn\n",
        "from torch.nn import functional as F\n",
        "torch.cuda.set_device(0)\n",
        "\n",
        "__all__ = ['swish_jit', 'SwishJit', 'mish_jit', 'MishJit']\n",
        "           #'hard_swish_jit', 'HardSwishJit', 'hard_sigmoid_jit', 'HardSigmoidJit']\n",
        "\n",
        "\n",
        "@torch.jit.script\n",
        "def swish_jit_fwd(x):\n",
        "    return x.mul(torch.sigmoid(x))\n",
        "\n",
        "\n",
        "@torch.jit.script\n",
        "def swish_jit_bwd(x, grad_output):\n",
        "    x_sigmoid = torch.sigmoid(x)\n",
        "    return grad_output * (x_sigmoid * (1 + x * (1 - x_sigmoid)))\n",
        "\n",
        "\n",
        "\n",
        "class SwishJitAutoFn(torch.autograd.Function):\n",
        "    \"\"\" torch.jit.script optimised Swish\n",
        "    Inspired by conversation btw Jeremy Howard & Adam Pazske\n",
        "    https://twitter.com/jeremyphoward/status/1188251041835315200\n",
        "    \"\"\"\n",
        "    @staticmethod\n",
        "    def forward(ctx, x):\n",
        "        ctx.save_for_backward(x)\n",
        "        return swish_jit_fwd(x)\n",
        "\n",
        "    @staticmethod\n",
        "    def backward(ctx, grad_output):\n",
        "        x = ctx.saved_tensors[0]\n",
        "        return swish_jit_bwd(x, grad_output)\n",
        "\n",
        "\n",
        "def swish_jit(x, inplace=False):\n",
        "    # inplace ignored\n",
        "    return SwishJitAutoFn.apply(x)\n",
        "\n",
        "\n",
        "class SwishJit(nn.Module):\n",
        "    def __init__(self, inplace: bool = False):\n",
        "        super(SwishJit, self).__init__()\n",
        "        self.inplace = inplace\n",
        "\n",
        "    def forward(self, x):\n",
        "        return SwishJitAutoFn.apply(x)\n",
        "\n",
        "\n",
        "@torch.jit.script\n",
        "def mish_jit_fwd(x):\n",
        "    return x.mul(torch.tanh(F.softplus(x)))\n",
        "\n",
        "\n",
        "@torch.jit.script\n",
        "def mish_jit_bwd(x, grad_output):\n",
        "    x_sigmoid = torch.sigmoid(x)\n",
        "    x_tanh_sp = F.softplus(x).tanh()\n",
        "    return grad_output.mul(x_tanh_sp + x * x_sigmoid * (1 - x_tanh_sp * x_tanh_sp))\n",
        "\n",
        "\n",
        "class MishJitAutoFn(torch.autograd.Function):\n",
        "    @staticmethod\n",
        "    def forward(ctx, x):\n",
        "        ctx.save_for_backward(x)\n",
        "        return mish_jit_fwd(x)\n",
        "\n",
        "    @staticmethod\n",
        "    def backward(ctx, grad_output):\n",
        "        x = ctx.saved_tensors[0]\n",
        "        return mish_jit_bwd(x, grad_output)\n",
        "\n",
        "\n",
        "def mish_jit(x, inplace=False):\n",
        "    # inplace ignored\n",
        "    return MishJitAutoFn.apply(x)\n",
        "\n",
        "\n",
        "class MishJit(nn.Module):\n",
        "    def __init__(self, inplace: bool = False):\n",
        "        super(MishJit, self).__init__()\n",
        "        self.inplace = inplace\n",
        "\n",
        "    def forward(self, x):\n",
        "        return MishJitAutoFn.apply(x)\n"
      ],
      "execution_count": 0,
      "outputs": []
    },
    {
      "cell_type": "code",
      "metadata": {
        "id": "C-WzdZKsOywL",
        "colab_type": "code",
        "colab": {}
      },
      "source": [
        "def mini_net(n_out=1000, pretrained=False,deconv=True, **kwargs):\n",
        "    block=SEResNeXtBlock\n",
        "    expansion=1\n",
        "    layers=[1,1,1,1] # [2,2,2,2,1,1] xse_resnext18_deep\n",
        "    groups=64        # 32 \n",
        "    reduction=8      # 16\n",
        "    return XResNet(block, expansion, layers, n_out=n_out, groups=groups, reduction=reduction, deconv=deconv, **kwargs)\n",
        "\n",
        "globals()['mini_net'] = mini_net"
      ],
      "execution_count": 0,
      "outputs": []
    },
    {
      "cell_type": "code",
      "metadata": {
        "id": "M_db3yd2tJDz",
        "colab_type": "code",
        "outputId": "aa6eea40-2f99-4eb1-a488-6adf977c9a3d",
        "colab": {
          "base_uri": "https://localhost:8080/",
          "height": 34
        }
      },
      "source": [
        "import fastai2\n",
        "fastai2.__file__"
      ],
      "execution_count": 0,
      "outputs": [
        {
          "output_type": "execute_result",
          "data": {
            "text/plain": [
              "'/root/anaconda3/lib/python3.7/site-packages/fastai2/__init__.py'"
            ]
          },
          "metadata": {
            "tags": []
          },
          "execution_count": 5
        }
      ]
    },
    {
      "cell_type": "code",
      "metadata": {
        "id": "I_B5gWbrwFza",
        "colab_type": "code",
        "colab": {}
      },
      "source": [
        "import PIL # hack to re-instate PILLOW_VERSION (thanks pillow 7 :o)\n",
        "PIL.PILLOW_VERSION = PIL.__version__\n",
        "\n",
        "from fastai2.basics import *\n",
        "from fastai2.vision.all import *\n",
        "from fastai2.callback.all import *\n",
        "from fastai2.distributed import *\n",
        "from fastprogress import fastprogress\n",
        "from torchvision.models import *\n",
        "from fastai2.vision.models.xresnet import *\n",
        "from fastai2.callback.mixup import *\n",
        "from fastscript import *\n",
        "\n",
        "torch.backends.cudnn.benchmark = True\n",
        "fastprogress.MAX_COLS = 80"
      ],
      "execution_count": 0,
      "outputs": []
    },
    {
      "cell_type": "code",
      "metadata": {
        "id": "uwLDoLaSwFzj",
        "colab_type": "code",
        "colab": {}
      },
      "source": [
        "def get_dls(size, woof, bs, sh=0., workers=None):\n",
        "    if size<=224: path = URLs.IMAGEWOOF_320 if woof else URLs.IMAGENETTE_320\n",
        "    else        : path = URLs.IMAGEWOOF     if woof else URLs.IMAGENETTE\n",
        "    source = untar_data(path)\n",
        "    if workers is None: workers = min(8, num_cpus())\n",
        "    # Resize seems to give slightly better accuracy than RandomResizedCrop\n",
        "    resize_ftm = Resize(size) # RandomResizedCrop(size, min_scale=0.35)\n",
        "    dblock = DataBlock(blocks=(ImageBlock, CategoryBlock),\n",
        "                       splitter=GrandparentSplitter(valid_name='val'),\n",
        "                       get_items=get_image_files, get_y=parent_label,\n",
        "                       item_tfms=[resize_ftm, FlipItem(0.5)],\n",
        "                       batch_tfms=RandomErasing(p=0.3, max_count=3, sh=sh) if sh else None)\n",
        "    return dblock.dataloaders(source, path=source, bs=bs, num_workers=0)"
      ],
      "execution_count": 0,
      "outputs": []
    },
    {
      "cell_type": "code",
      "metadata": {
        "id": "0tWZ9comwFzq",
        "colab_type": "code",
        "colab": {}
      },
      "source": [
        "@call_parse\n",
        "def main(\n",
        "    gpu:   Param(\"GPU to run on\", int)=None,\n",
        "    woof:  Param(\"Use imagewoof (otherwise imagenette)\", int)=1,\n",
        "    lr:    Param(\"Learning rate\", float)=1e-2,\n",
        "    size:  Param(\"Size (px: 128,192,256)\", int)=128,\n",
        "    sqrmom:Param(\"sqr_mom\", float)=0.99,\n",
        "    mom:   Param(\"Momentum\", float)=0.9,\n",
        "    eps:   Param(\"epsilon\", float)=1e-6,\n",
        "    epochs:Param(\"Number of epochs\", int)=5,\n",
        "    bs:    Param(\"Batch size\", int)=32,\n",
        "    mixup: Param(\"Mixup\", float)=0.,\n",
        "    opt:   Param(\"Optimizer (adam,rms,sgd,ranger)\", str)='ranger',\n",
        "    arch:  Param(\"Architecture\", str)='xresnet18',\n",
        "    sh:    Param(\"Random erase max proportion\", float)=0.,\n",
        "    sa:    Param(\"Self-attention\", int)=0,\n",
        "    sym:   Param(\"Symmetry for self-attention\", int)=0,\n",
        "    beta:  Param(\"SAdam softplus beta\", float)=0.,\n",
        "    act_fn:Param(\"Activation function\", str)='MishJit',\n",
        "    fp16:  Param(\"Use mixed precision training\", int)=0,\n",
        "    pool:  Param(\"Pooling method\", str)='AvgPool',\n",
        "    dump:  Param(\"Print model; don't train\", int)=0,\n",
        "    runs:  Param(\"Number of times to repeat training\", int)=1,\n",
        "    meta:  Param(\"Metadata (ignored)\", str)='',\n",
        "    wd:    Param(\"Weight decay\", float)=1e-2,\n",
        "    deconv:Param(\"Deconv\", bool)=False,\n",
        "    blur:  Param(\"MaxBlurPool\", bool)=False\n",
        "):\n",
        "    \"Training of Imagenette.\"\n",
        "\n",
        "    #gpu = setup_distrib(gpu)\n",
        "    if gpu is not None: torch.cuda.set_device(gpu)\n",
        "    if   opt=='adam'  : opt_func = partial(Adam, mom=mom, sqr_mom=sqrmom, eps=eps)\n",
        "    elif opt=='rms'   : opt_func = partial(RMSprop, sqr_mom=sqrmom)\n",
        "    elif opt=='sgd'   : opt_func = partial(SGD, mom=mom)\n",
        "    elif opt=='ranger': opt_func = partial(ranger, mom=mom, sqr_mom=sqrmom, eps=eps, beta=beta)\n",
        "\n",
        "    dls = get_dls(size, woof, bs, sh=sh)\n",
        "    if not gpu: \n",
        "        print(f'epochs: {epochs}; lr: {lr}; size: {size}; sqrmom: {sqrmom}; mom: {mom}; eps: {eps}')\n",
        "        print(f'fp16: {fp16}; arch: {arch}; wd: {wd}; act_fn: {act_fn}; bs: {bs}')\n",
        "        print(f'pool: {pool}; woof: {woof}; sh:{sh}')\n",
        "        \n",
        "    m,act_fn,pool = [globals()[o] for o in (arch,act_fn,pool)]\n",
        "    \n",
        "    for run in range(runs):\n",
        "        print(f'Run: {run}')\n",
        "        for deconv in [True, False]:\n",
        "            print('\\t\\t\\t DECONV' if deconv else '\\t\\t\\t Without DECONV')\n",
        "            model = m(n_out=10, act_cls=act_fn, sa=sa, sym=sym, pool=pool, deconv=deconv)\n",
        "            if blur:\n",
        "                model = convert_MP_to_blurMP(model, nn.MaxPool2d)\n",
        "            learn = Learner(dls, model, opt_func=opt_func, \\\n",
        "                    metrics=[accuracy,top_k_accuracy], loss_func=LabelSmoothingCrossEntropy())\n",
        "            if dump: \n",
        "                print(learn.model); exit()\n",
        "            if fp16: learn = learn.to_fp16()\n",
        "            cbs = MixUp(mixup) if mixup else []\n",
        "            learn.fit_flat_cos(epochs, lr, wd=wd, cbs=cbs)\n",
        "        \n",
        "    return learn"
      ],
      "execution_count": 0,
      "outputs": []
    },
    {
      "cell_type": "markdown",
      "metadata": {
        "id": "v-uD9-Dbnf8O",
        "colab_type": "text"
      },
      "source": [
        "## Comparison on Imagenette Dataset"
      ]
    },
    {
      "cell_type": "code",
      "metadata": {
        "id": "qCI0LCDrrFkg",
        "colab_type": "code",
        "colab": {}
      },
      "source": [
        "size = 128\n",
        "woof = 0\n",
        "bs = 32\n",
        "sh = 0.\n",
        "dls = get_dls(size, woof, bs, sh=sh)\n",
        "m, act, pool = globals()['xresnet18'], globals()['MishJit'], globals()['AvgPool']\n",
        "\n",
        "opt_func = partial(ranger, mom=0.9, sqr_mom=0.99, eps=1e-6, beta=0)\n",
        "learn = Learner(dls, m(n_out=10, act_cls=act, sa=0, sym=0, pool=pool, deconv=True), opt_func=opt_func, \\\n",
        "                metrics=[accuracy,top_k_accuracy], loss_func=LabelSmoothingCrossEntropy())"
      ],
      "execution_count": 0,
      "outputs": []
    },
    {
      "cell_type": "code",
      "metadata": {
        "id": "YF0zCl7vtmWZ",
        "colab_type": "code",
        "outputId": "3f15ed09-681f-4888-9427-8a6829c9e5aa",
        "colab": {
          "base_uri": "https://localhost:8080/",
          "height": 368
        }
      },
      "source": [
        "learn.lr_find()"
      ],
      "execution_count": 0,
      "outputs": [
        {
          "output_type": "display_data",
          "data": {
            "text/plain": [
              "<IPython.core.display.HTML object>"
            ],
            "text/html": [
              ""
            ]
          },
          "metadata": {
            "tags": []
          }
        },
        {
          "output_type": "stream",
          "text": [
            "/pytorch/torch/csrc/utils/python_arg_parser.cpp:756: UserWarning: This overload of addmm is deprecated:\n",
            "\taddmm(Number beta, Tensor input, Number alpha, Tensor mat1, Tensor mat2, *, Tensor out)\n",
            "Consider using one of the following signatures instead:\n",
            "\taddmm(Tensor input, Tensor mat1, Tensor mat2, *, Number beta, Number alpha, Tensor out)\n"
          ],
          "name": "stderr"
        },
        {
          "output_type": "execute_result",
          "data": {
            "text/plain": [
              "SuggestedLRs(lr_min=0.00036307806149125097, lr_steep=0.0014454397605732083)"
            ]
          },
          "metadata": {
            "tags": []
          },
          "execution_count": 7
        },
        {
          "output_type": "display_data",
          "data": {
            "text/plain": [
              "<Figure size 432x288 with 1 Axes>"
            ],
            "image/png": "[encoded data removed]"
          },
          "metadata": {
            "tags": [],
            "needs_background": "light"
          }
        }
      ]
    },
    {
      "cell_type": "markdown",
      "metadata": {
        "id": "htRvYUMQpxGn",
        "colab_type": "text"
      },
      "source": [
        "I will use `lr` somewhere between `lr_min` and `lr_steep` - 0.0008"
      ]
    },
    {
      "cell_type": "code",
      "metadata": {
        "id": "uJzk3GXTyqFK",
        "colab_type": "code",
        "outputId": "727eb05f-1460-468e-e1f4-dcdc7767dd2b",
        "colab": {
          "base_uri": "https://localhost:8080/",
          "height": 34
        }
      },
      "source": [
        "del learn\n",
        "import gc; gc.collect()"
      ],
      "execution_count": 0,
      "outputs": [
        {
          "output_type": "execute_result",
          "data": {
            "text/plain": [
              "33929"
            ]
          },
          "metadata": {
            "tags": []
          },
          "execution_count": 25
        }
      ]
    },
    {
      "cell_type": "code",
      "metadata": {
        "id": "sBzT0Sl3T1hj",
        "colab_type": "code",
        "outputId": "fd1e82d1-99b2-440f-910c-f153abe1ffd7",
        "colab": {
          "base_uri": "https://localhost:8080/",
          "height": 1000
        }
      },
      "source": [
        "learn = main(runs=3, lr=0.0008, arch='xresnet18', epochs=5, opt='sgd', act_fn = 'Mish', woof=0, blur=False)"
      ],
      "execution_count": 0,
      "outputs": [
        {
          "output_type": "stream",
          "text": [
            "epochs: 5; lr: 0.0008; size: 128; sqrmom: 0.99; mom: 0.9; eps: 1e-06\n",
            "fp16: 0; arch: xresnet18; wd: 0.01; act_fn: Mish; bs: 32\n",
            "pool: AvgPool; woof: 0; sh:0.0\n",
            "Run: 0\n",
            "\t\t\tDECONV\n"
          ],
          "name": "stdout"
        },
        {
          "output_type": "display_data",
          "data": {
            "text/plain": [
              "<IPython.core.display.HTML object>"
            ],
            "text/html": [
              "<table border=\"1\" class=\"dataframe\">\n",
              "  <thead>\n",
              "    <tr style=\"text-align: left;\">\n",
              "      <th>epoch</th>\n",
              "      <th>train_loss</th>\n",
              "      <th>valid_loss</th>\n",
              "      <th>accuracy</th>\n",
              "      <th>top_k_accuracy</th>\n",
              "      <th>time</th>\n",
              "    </tr>\n",
              "  </thead>\n",
              "  <tbody>\n",
              "    <tr>\n",
              "      <td>0</td>\n",
              "      <td>1.729565</td>\n",
              "      <td>1.584505</td>\n",
              "      <td>0.556178</td>\n",
              "      <td>0.916178</td>\n",
              "      <td>01:36</td>\n",
              "    </tr>\n",
              "    <tr>\n",
              "      <td>1</td>\n",
              "      <td>1.523572</td>\n",
              "      <td>1.431844</td>\n",
              "      <td>0.628790</td>\n",
              "      <td>0.931720</td>\n",
              "      <td>01:37</td>\n",
              "    </tr>\n",
              "    <tr>\n",
              "      <td>2</td>\n",
              "      <td>1.396795</td>\n",
              "      <td>1.378073</td>\n",
              "      <td>0.660127</td>\n",
              "      <td>0.942166</td>\n",
              "      <td>01:37</td>\n",
              "    </tr>\n",
              "    <tr>\n",
              "      <td>3</td>\n",
              "      <td>1.303251</td>\n",
              "      <td>1.338582</td>\n",
              "      <td>0.686624</td>\n",
              "      <td>0.949299</td>\n",
              "      <td>01:37</td>\n",
              "    </tr>\n",
              "    <tr>\n",
              "      <td>4</td>\n",
              "      <td>1.270989</td>\n",
              "      <td>1.310148</td>\n",
              "      <td>0.705732</td>\n",
              "      <td>0.952866</td>\n",
              "      <td>01:37</td>\n",
              "    </tr>\n",
              "  </tbody>\n",
              "</table>"
            ]
          },
          "metadata": {
            "tags": []
          }
        },
        {
          "output_type": "stream",
          "text": [
            "\t\t\tWithout DECONV\n"
          ],
          "name": "stdout"
        },
        {
          "output_type": "display_data",
          "data": {
            "text/plain": [
              "<IPython.core.display.HTML object>"
            ],
            "text/html": [
              "<table border=\"1\" class=\"dataframe\">\n",
              "  <thead>\n",
              "    <tr style=\"text-align: left;\">\n",
              "      <th>epoch</th>\n",
              "      <th>train_loss</th>\n",
              "      <th>valid_loss</th>\n",
              "      <th>accuracy</th>\n",
              "      <th>top_k_accuracy</th>\n",
              "      <th>time</th>\n",
              "    </tr>\n",
              "  </thead>\n",
              "  <tbody>\n",
              "    <tr>\n",
              "      <td>0</td>\n",
              "      <td>1.841771</td>\n",
              "      <td>1.812542</td>\n",
              "      <td>0.436688</td>\n",
              "      <td>0.880000</td>\n",
              "      <td>00:47</td>\n",
              "    </tr>\n",
              "    <tr>\n",
              "      <td>1</td>\n",
              "      <td>1.695737</td>\n",
              "      <td>1.665762</td>\n",
              "      <td>0.545732</td>\n",
              "      <td>0.906242</td>\n",
              "      <td>00:47</td>\n",
              "    </tr>\n",
              "    <tr>\n",
              "      <td>2</td>\n",
              "      <td>1.604664</td>\n",
              "      <td>1.578199</td>\n",
              "      <td>0.577834</td>\n",
              "      <td>0.921783</td>\n",
              "      <td>00:47</td>\n",
              "    </tr>\n",
              "    <tr>\n",
              "      <td>3</td>\n",
              "      <td>1.534407</td>\n",
              "      <td>1.523221</td>\n",
              "      <td>0.593376</td>\n",
              "      <td>0.933503</td>\n",
              "      <td>00:47</td>\n",
              "    </tr>\n",
              "    <tr>\n",
              "      <td>4</td>\n",
              "      <td>1.476672</td>\n",
              "      <td>1.478830</td>\n",
              "      <td>0.616815</td>\n",
              "      <td>0.937580</td>\n",
              "      <td>00:47</td>\n",
              "    </tr>\n",
              "  </tbody>\n",
              "</table>"
            ]
          },
          "metadata": {
            "tags": []
          }
        },
        {
          "output_type": "stream",
          "text": [
            "Run: 1\n",
            "\t\t\tDECONV\n"
          ],
          "name": "stdout"
        },
        {
          "output_type": "display_data",
          "data": {
            "text/plain": [
              "<IPython.core.display.HTML object>"
            ],
            "text/html": [
              "<table border=\"1\" class=\"dataframe\">\n",
              "  <thead>\n",
              "    <tr style=\"text-align: left;\">\n",
              "      <th>epoch</th>\n",
              "      <th>train_loss</th>\n",
              "      <th>valid_loss</th>\n",
              "      <th>accuracy</th>\n",
              "      <th>top_k_accuracy</th>\n",
              "      <th>time</th>\n",
              "    </tr>\n",
              "  </thead>\n",
              "  <tbody>\n",
              "    <tr>\n",
              "      <td>0</td>\n",
              "      <td>1.763830</td>\n",
              "      <td>1.606522</td>\n",
              "      <td>0.543185</td>\n",
              "      <td>0.910064</td>\n",
              "      <td>01:36</td>\n",
              "    </tr>\n",
              "    <tr>\n",
              "      <td>1</td>\n",
              "      <td>1.541716</td>\n",
              "      <td>1.452071</td>\n",
              "      <td>0.623439</td>\n",
              "      <td>0.932994</td>\n",
              "      <td>01:37</td>\n",
              "    </tr>\n",
              "    <tr>\n",
              "      <td>2</td>\n",
              "      <td>1.395911</td>\n",
              "      <td>1.379467</td>\n",
              "      <td>0.662930</td>\n",
              "      <td>0.939873</td>\n",
              "      <td>01:37</td>\n",
              "    </tr>\n",
              "    <tr>\n",
              "      <td>3</td>\n",
              "      <td>1.307429</td>\n",
              "      <td>1.342774</td>\n",
              "      <td>0.690446</td>\n",
              "      <td>0.948280</td>\n",
              "      <td>01:37</td>\n",
              "    </tr>\n",
              "    <tr>\n",
              "      <td>4</td>\n",
              "      <td>1.279097</td>\n",
              "      <td>1.308850</td>\n",
              "      <td>0.707261</td>\n",
              "      <td>0.952102</td>\n",
              "      <td>01:37</td>\n",
              "    </tr>\n",
              "  </tbody>\n",
              "</table>"
            ]
          },
          "metadata": {
            "tags": []
          }
        },
        {
          "output_type": "stream",
          "text": [
            "\t\t\tWithout DECONV\n"
          ],
          "name": "stdout"
        },
        {
          "output_type": "display_data",
          "data": {
            "text/plain": [
              "<IPython.core.display.HTML object>"
            ],
            "text/html": [
              "<table border=\"1\" class=\"dataframe\">\n",
              "  <thead>\n",
              "    <tr style=\"text-align: left;\">\n",
              "      <th>epoch</th>\n",
              "      <th>train_loss</th>\n",
              "      <th>valid_loss</th>\n",
              "      <th>accuracy</th>\n",
              "      <th>top_k_accuracy</th>\n",
              "      <th>time</th>\n",
              "    </tr>\n",
              "  </thead>\n",
              "  <tbody>\n",
              "    <tr>\n",
              "      <td>0</td>\n",
              "      <td>1.875949</td>\n",
              "      <td>1.831929</td>\n",
              "      <td>0.444076</td>\n",
              "      <td>0.873885</td>\n",
              "      <td>00:47</td>\n",
              "    </tr>\n",
              "    <tr>\n",
              "      <td>1</td>\n",
              "      <td>1.701992</td>\n",
              "      <td>1.696453</td>\n",
              "      <td>0.513121</td>\n",
              "      <td>0.901146</td>\n",
              "      <td>00:47</td>\n",
              "    </tr>\n",
              "    <tr>\n",
              "      <td>2</td>\n",
              "      <td>1.603450</td>\n",
              "      <td>1.593356</td>\n",
              "      <td>0.561019</td>\n",
              "      <td>0.919490</td>\n",
              "      <td>00:47</td>\n",
              "    </tr>\n",
              "    <tr>\n",
              "      <td>3</td>\n",
              "      <td>1.556298</td>\n",
              "      <td>1.515756</td>\n",
              "      <td>0.609427</td>\n",
              "      <td>0.931465</td>\n",
              "      <td>00:47</td>\n",
              "    </tr>\n",
              "    <tr>\n",
              "      <td>4</td>\n",
              "      <td>1.509566</td>\n",
              "      <td>1.474293</td>\n",
              "      <td>0.621401</td>\n",
              "      <td>0.942420</td>\n",
              "      <td>00:47</td>\n",
              "    </tr>\n",
              "  </tbody>\n",
              "</table>"
            ]
          },
          "metadata": {
            "tags": []
          }
        },
        {
          "output_type": "stream",
          "text": [
            "Run: 2\n",
            "\t\t\tDECONV\n"
          ],
          "name": "stdout"
        },
        {
          "output_type": "display_data",
          "data": {
            "text/plain": [
              "<IPython.core.display.HTML object>"
            ],
            "text/html": [
              "<table border=\"1\" class=\"dataframe\">\n",
              "  <thead>\n",
              "    <tr style=\"text-align: left;\">\n",
              "      <th>epoch</th>\n",
              "      <th>train_loss</th>\n",
              "      <th>valid_loss</th>\n",
              "      <th>accuracy</th>\n",
              "      <th>top_k_accuracy</th>\n",
              "      <th>time</th>\n",
              "    </tr>\n",
              "  </thead>\n",
              "  <tbody>\n",
              "    <tr>\n",
              "      <td>0</td>\n",
              "      <td>1.756230</td>\n",
              "      <td>1.578078</td>\n",
              "      <td>0.556943</td>\n",
              "      <td>0.911592</td>\n",
              "      <td>01:36</td>\n",
              "    </tr>\n",
              "    <tr>\n",
              "      <td>1</td>\n",
              "      <td>1.512965</td>\n",
              "      <td>1.429971</td>\n",
              "      <td>0.633121</td>\n",
              "      <td>0.937070</td>\n",
              "      <td>01:37</td>\n",
              "    </tr>\n",
              "    <tr>\n",
              "      <td>2</td>\n",
              "      <td>1.397188</td>\n",
              "      <td>1.371289</td>\n",
              "      <td>0.674395</td>\n",
              "      <td>0.944713</td>\n",
              "      <td>01:37</td>\n",
              "    </tr>\n",
              "    <tr>\n",
              "      <td>3</td>\n",
              "      <td>1.325806</td>\n",
              "      <td>1.352979</td>\n",
              "      <td>0.687134</td>\n",
              "      <td>0.949299</td>\n",
              "      <td>01:37</td>\n",
              "    </tr>\n",
              "    <tr>\n",
              "      <td>4</td>\n",
              "      <td>1.276160</td>\n",
              "      <td>1.324359</td>\n",
              "      <td>0.693758</td>\n",
              "      <td>0.951338</td>\n",
              "      <td>01:37</td>\n",
              "    </tr>\n",
              "  </tbody>\n",
              "</table>"
            ]
          },
          "metadata": {
            "tags": []
          }
        },
        {
          "output_type": "stream",
          "text": [
            "\t\t\tWithout DECONV\n"
          ],
          "name": "stdout"
        },
        {
          "output_type": "display_data",
          "data": {
            "text/plain": [
              "<IPython.core.display.HTML object>"
            ],
            "text/html": [
              "<table border=\"1\" class=\"dataframe\">\n",
              "  <thead>\n",
              "    <tr style=\"text-align: left;\">\n",
              "      <th>epoch</th>\n",
              "      <th>train_loss</th>\n",
              "      <th>valid_loss</th>\n",
              "      <th>accuracy</th>\n",
              "      <th>top_k_accuracy</th>\n",
              "      <th>time</th>\n",
              "    </tr>\n",
              "  </thead>\n",
              "  <tbody>\n",
              "    <tr>\n",
              "      <td>0</td>\n",
              "      <td>1.875084</td>\n",
              "      <td>1.851118</td>\n",
              "      <td>0.432611</td>\n",
              "      <td>0.857580</td>\n",
              "      <td>00:47</td>\n",
              "    </tr>\n",
              "    <tr>\n",
              "      <td>1</td>\n",
              "      <td>1.720383</td>\n",
              "      <td>1.689013</td>\n",
              "      <td>0.516433</td>\n",
              "      <td>0.904968</td>\n",
              "      <td>00:47</td>\n",
              "    </tr>\n",
              "    <tr>\n",
              "      <td>2</td>\n",
              "      <td>1.620474</td>\n",
              "      <td>1.588787</td>\n",
              "      <td>0.557962</td>\n",
              "      <td>0.920255</td>\n",
              "      <td>00:47</td>\n",
              "    </tr>\n",
              "    <tr>\n",
              "      <td>3</td>\n",
              "      <td>1.563302</td>\n",
              "      <td>1.524466</td>\n",
              "      <td>0.586242</td>\n",
              "      <td>0.933758</td>\n",
              "      <td>00:47</td>\n",
              "    </tr>\n",
              "    <tr>\n",
              "      <td>4</td>\n",
              "      <td>1.513279</td>\n",
              "      <td>1.484640</td>\n",
              "      <td>0.609936</td>\n",
              "      <td>0.937070</td>\n",
              "      <td>00:47</td>\n",
              "    </tr>\n",
              "  </tbody>\n",
              "</table>"
            ]
          },
          "metadata": {
            "tags": []
          }
        }
      ]
    },
    {
      "cell_type": "code",
      "metadata": {
        "id": "hpr30mWa1X8r",
        "colab_type": "code",
        "outputId": "3dd0325a-ea6a-447e-9f71-77ca790648d0",
        "colab": {
          "base_uri": "https://localhost:8080/",
          "height": 1000
        }
      },
      "source": [
        "lr = 0.0008\n",
        "arch='mini_net'\n",
        "learn = main(runs=5, lr=lr, arch=arch, wd=0.0001, woof=0, epochs=5, blur=True)"
      ],
      "execution_count": 0,
      "outputs": [
        {
          "output_type": "stream",
          "text": [
            "epochs: 5; lr: 0.0008; size: 128; sqrmom: 0.99; mom: 0.9; eps: 1e-06\n",
            "fp16: 0; arch: mini_net; wd: 0.0001; act_fn: MishJit; bs: 32\n",
            "pool: AvgPool; woof: 0; sh:0.0\n",
            "Run: 0\n",
            "block=<function SEResNeXtBlock at 0x7f91600cfcb0> expansion=1 layers=[1, 1, 1, 1] groups=64 reduction=8\n",
            "\t\t\tDECONV\n"
          ],
          "name": "stdout"
        },
        {
          "output_type": "display_data",
          "data": {
            "text/plain": [
              "<IPython.core.display.HTML object>"
            ],
            "text/html": [
              "<table border=\"1\" class=\"dataframe\">\n",
              "  <thead>\n",
              "    <tr style=\"text-align: left;\">\n",
              "      <th>epoch</th>\n",
              "      <th>train_loss</th>\n",
              "      <th>valid_loss</th>\n",
              "      <th>accuracy</th>\n",
              "      <th>top_k_accuracy</th>\n",
              "      <th>time</th>\n",
              "    </tr>\n",
              "  </thead>\n",
              "  <tbody>\n",
              "    <tr>\n",
              "      <td>0</td>\n",
              "      <td>1.370374</td>\n",
              "      <td>1.257673</td>\n",
              "      <td>0.716433</td>\n",
              "      <td>0.958981</td>\n",
              "      <td>01:43</td>\n",
              "    </tr>\n",
              "    <tr>\n",
              "      <td>1</td>\n",
              "      <td>1.170298</td>\n",
              "      <td>1.226426</td>\n",
              "      <td>0.735541</td>\n",
              "      <td>0.965350</td>\n",
              "      <td>01:38</td>\n",
              "    </tr>\n",
              "    <tr>\n",
              "      <td>2</td>\n",
              "      <td>1.113066</td>\n",
              "      <td>1.182526</td>\n",
              "      <td>0.756178</td>\n",
              "      <td>0.969682</td>\n",
              "      <td>01:38</td>\n",
              "    </tr>\n",
              "    <tr>\n",
              "      <td>3</td>\n",
              "      <td>1.012197</td>\n",
              "      <td>1.108844</td>\n",
              "      <td>0.802803</td>\n",
              "      <td>0.978599</td>\n",
              "      <td>01:39</td>\n",
              "    </tr>\n",
              "    <tr>\n",
              "      <td>4</td>\n",
              "      <td>0.902036</td>\n",
              "      <td>1.057294</td>\n",
              "      <td>0.826242</td>\n",
              "      <td>0.975796</td>\n",
              "      <td>01:39</td>\n",
              "    </tr>\n",
              "  </tbody>\n",
              "</table>"
            ]
          },
          "metadata": {
            "tags": []
          }
        },
        {
          "output_type": "stream",
          "text": [
            "/root/anaconda3/lib/python3.7/site-packages/torch/nn/functional.py:2854: UserWarning: The default behavior for interpolate/upsample with float scale_factor will change in 1.6.0 to align with other frameworks/libraries, and use scale_factor directly, instead of relying on the computed output size. If you wish to keep the old behavior, please set recompute_scale_factor=True. See the documentation of nn.Upsample for details. \n",
            "  warnings.warn(\"The default behavior for interpolate/upsample with float scale_factor will change \"\n"
          ],
          "name": "stderr"
        },
        {
          "output_type": "stream",
          "text": [
            "\t\t\tWithout DECONV\n",
            "block=<function SEResNeXtBlock at 0x7f91600cfcb0> expansion=1 layers=[1, 1, 1, 1] groups=64 reduction=8\n"
          ],
          "name": "stdout"
        },
        {
          "output_type": "display_data",
          "data": {
            "text/plain": [
              "<IPython.core.display.HTML object>"
            ],
            "text/html": [
              "<table border=\"1\" class=\"dataframe\">\n",
              "  <thead>\n",
              "    <tr style=\"text-align: left;\">\n",
              "      <th>epoch</th>\n",
              "      <th>train_loss</th>\n",
              "      <th>valid_loss</th>\n",
              "      <th>accuracy</th>\n",
              "      <th>top_k_accuracy</th>\n",
              "      <th>time</th>\n",
              "    </tr>\n",
              "  </thead>\n",
              "  <tbody>\n",
              "    <tr>\n",
              "      <td>0</td>\n",
              "      <td>1.579904</td>\n",
              "      <td>1.467684</td>\n",
              "      <td>0.617325</td>\n",
              "      <td>0.937325</td>\n",
              "      <td>00:50</td>\n",
              "    </tr>\n",
              "    <tr>\n",
              "      <td>1</td>\n",
              "      <td>1.321677</td>\n",
              "      <td>1.313811</td>\n",
              "      <td>0.679745</td>\n",
              "      <td>0.951338</td>\n",
              "      <td>00:49</td>\n",
              "    </tr>\n",
              "    <tr>\n",
              "      <td>2</td>\n",
              "      <td>1.229187</td>\n",
              "      <td>1.229775</td>\n",
              "      <td>0.712102</td>\n",
              "      <td>0.960510</td>\n",
              "      <td>00:50</td>\n",
              "    </tr>\n",
              "    <tr>\n",
              "      <td>3</td>\n",
              "      <td>1.134932</td>\n",
              "      <td>1.208459</td>\n",
              "      <td>0.714904</td>\n",
              "      <td>0.965605</td>\n",
              "      <td>00:50</td>\n",
              "    </tr>\n",
              "    <tr>\n",
              "      <td>4</td>\n",
              "      <td>1.013008</td>\n",
              "      <td>1.045467</td>\n",
              "      <td>0.793121</td>\n",
              "      <td>0.973503</td>\n",
              "      <td>00:50</td>\n",
              "    </tr>\n",
              "  </tbody>\n",
              "</table>"
            ]
          },
          "metadata": {
            "tags": []
          }
        },
        {
          "output_type": "stream",
          "text": [
            "Run: 1\n",
            "block=<function SEResNeXtBlock at 0x7f91600cfcb0> expansion=1 layers=[1, 1, 1, 1] groups=64 reduction=8\n",
            "\t\t\tDECONV\n"
          ],
          "name": "stdout"
        },
        {
          "output_type": "display_data",
          "data": {
            "text/plain": [
              "<IPython.core.display.HTML object>"
            ],
            "text/html": [
              "<table border=\"1\" class=\"dataframe\">\n",
              "  <thead>\n",
              "    <tr style=\"text-align: left;\">\n",
              "      <th>epoch</th>\n",
              "      <th>train_loss</th>\n",
              "      <th>valid_loss</th>\n",
              "      <th>accuracy</th>\n",
              "      <th>top_k_accuracy</th>\n",
              "      <th>time</th>\n",
              "    </tr>\n",
              "  </thead>\n",
              "  <tbody>\n",
              "    <tr>\n",
              "      <td>0</td>\n",
              "      <td>1.343338</td>\n",
              "      <td>1.255494</td>\n",
              "      <td>0.721529</td>\n",
              "      <td>0.952102</td>\n",
              "      <td>01:38</td>\n",
              "    </tr>\n",
              "    <tr>\n",
              "      <td>1</td>\n",
              "      <td>1.183698</td>\n",
              "      <td>1.163518</td>\n",
              "      <td>0.758981</td>\n",
              "      <td>0.966369</td>\n",
              "      <td>01:39</td>\n",
              "    </tr>\n",
              "    <tr>\n",
              "      <td>2</td>\n",
              "      <td>1.096381</td>\n",
              "      <td>1.128443</td>\n",
              "      <td>0.784459</td>\n",
              "      <td>0.971720</td>\n",
              "      <td>01:39</td>\n",
              "    </tr>\n",
              "    <tr>\n",
              "      <td>3</td>\n",
              "      <td>1.012812</td>\n",
              "      <td>1.105600</td>\n",
              "      <td>0.797962</td>\n",
              "      <td>0.972229</td>\n",
              "      <td>01:39</td>\n",
              "    </tr>\n",
              "    <tr>\n",
              "      <td>4</td>\n",
              "      <td>0.878025</td>\n",
              "      <td>1.049604</td>\n",
              "      <td>0.825223</td>\n",
              "      <td>0.980127</td>\n",
              "      <td>01:39</td>\n",
              "    </tr>\n",
              "  </tbody>\n",
              "</table>"
            ]
          },
          "metadata": {
            "tags": []
          }
        },
        {
          "output_type": "stream",
          "text": [
            "\t\t\tWithout DECONV\n",
            "block=<function SEResNeXtBlock at 0x7f91600cfcb0> expansion=1 layers=[1, 1, 1, 1] groups=64 reduction=8\n"
          ],
          "name": "stdout"
        },
        {
          "output_type": "display_data",
          "data": {
            "text/plain": [
              "<IPython.core.display.HTML object>"
            ],
            "text/html": [
              "<table border=\"1\" class=\"dataframe\">\n",
              "  <thead>\n",
              "    <tr style=\"text-align: left;\">\n",
              "      <th>epoch</th>\n",
              "      <th>train_loss</th>\n",
              "      <th>valid_loss</th>\n",
              "      <th>accuracy</th>\n",
              "      <th>top_k_accuracy</th>\n",
              "      <th>time</th>\n",
              "    </tr>\n",
              "  </thead>\n",
              "  <tbody>\n",
              "    <tr>\n",
              "      <td>0</td>\n",
              "      <td>1.610448</td>\n",
              "      <td>1.480859</td>\n",
              "      <td>0.615541</td>\n",
              "      <td>0.928153</td>\n",
              "      <td>00:50</td>\n",
              "    </tr>\n",
              "    <tr>\n",
              "      <td>1</td>\n",
              "      <td>1.343885</td>\n",
              "      <td>1.282684</td>\n",
              "      <td>0.687134</td>\n",
              "      <td>0.954395</td>\n",
              "      <td>00:50</td>\n",
              "    </tr>\n",
              "    <tr>\n",
              "      <td>2</td>\n",
              "      <td>1.211148</td>\n",
              "      <td>1.224869</td>\n",
              "      <td>0.707771</td>\n",
              "      <td>0.964331</td>\n",
              "      <td>00:50</td>\n",
              "    </tr>\n",
              "    <tr>\n",
              "      <td>3</td>\n",
              "      <td>1.110164</td>\n",
              "      <td>1.120817</td>\n",
              "      <td>0.762803</td>\n",
              "      <td>0.971210</td>\n",
              "      <td>00:50</td>\n",
              "    </tr>\n",
              "    <tr>\n",
              "      <td>4</td>\n",
              "      <td>1.002918</td>\n",
              "      <td>1.048802</td>\n",
              "      <td>0.792102</td>\n",
              "      <td>0.975287</td>\n",
              "      <td>00:50</td>\n",
              "    </tr>\n",
              "  </tbody>\n",
              "</table>"
            ]
          },
          "metadata": {
            "tags": []
          }
        },
        {
          "output_type": "stream",
          "text": [
            "Run: 2\n",
            "block=<function SEResNeXtBlock at 0x7f91600cfcb0> expansion=1 layers=[1, 1, 1, 1] groups=64 reduction=8\n",
            "\t\t\tDECONV\n"
          ],
          "name": "stdout"
        },
        {
          "output_type": "display_data",
          "data": {
            "text/plain": [
              "<IPython.core.display.HTML object>"
            ],
            "text/html": [
              "<table border=\"1\" class=\"dataframe\">\n",
              "  <thead>\n",
              "    <tr style=\"text-align: left;\">\n",
              "      <th>epoch</th>\n",
              "      <th>train_loss</th>\n",
              "      <th>valid_loss</th>\n",
              "      <th>accuracy</th>\n",
              "      <th>top_k_accuracy</th>\n",
              "      <th>time</th>\n",
              "    </tr>\n",
              "  </thead>\n",
              "  <tbody>\n",
              "    <tr>\n",
              "      <td>0</td>\n",
              "      <td>1.351749</td>\n",
              "      <td>1.226477</td>\n",
              "      <td>0.727389</td>\n",
              "      <td>0.956688</td>\n",
              "      <td>01:38</td>\n",
              "    </tr>\n",
              "    <tr>\n",
              "      <td>1</td>\n",
              "      <td>1.181840</td>\n",
              "      <td>1.204843</td>\n",
              "      <td>0.751847</td>\n",
              "      <td>0.957707</td>\n",
              "      <td>01:39</td>\n",
              "    </tr>\n",
              "    <tr>\n",
              "      <td>2</td>\n",
              "      <td>1.078793</td>\n",
              "      <td>1.136474</td>\n",
              "      <td>0.780382</td>\n",
              "      <td>0.970701</td>\n",
              "      <td>01:39</td>\n",
              "    </tr>\n",
              "    <tr>\n",
              "      <td>3</td>\n",
              "      <td>1.009524</td>\n",
              "      <td>1.130328</td>\n",
              "      <td>0.789554</td>\n",
              "      <td>0.971210</td>\n",
              "      <td>01:39</td>\n",
              "    </tr>\n",
              "    <tr>\n",
              "      <td>4</td>\n",
              "      <td>0.894654</td>\n",
              "      <td>1.040012</td>\n",
              "      <td>0.819873</td>\n",
              "      <td>0.978344</td>\n",
              "      <td>01:39</td>\n",
              "    </tr>\n",
              "  </tbody>\n",
              "</table>"
            ]
          },
          "metadata": {
            "tags": []
          }
        },
        {
          "output_type": "stream",
          "text": [
            "\t\t\tWithout DECONV\n",
            "block=<function SEResNeXtBlock at 0x7f91600cfcb0> expansion=1 layers=[1, 1, 1, 1] groups=64 reduction=8\n"
          ],
          "name": "stdout"
        },
        {
          "output_type": "display_data",
          "data": {
            "text/plain": [
              "<IPython.core.display.HTML object>"
            ],
            "text/html": [
              "<table border=\"1\" class=\"dataframe\">\n",
              "  <thead>\n",
              "    <tr style=\"text-align: left;\">\n",
              "      <th>epoch</th>\n",
              "      <th>train_loss</th>\n",
              "      <th>valid_loss</th>\n",
              "      <th>accuracy</th>\n",
              "      <th>top_k_accuracy</th>\n",
              "      <th>time</th>\n",
              "    </tr>\n",
              "  </thead>\n",
              "  <tbody>\n",
              "    <tr>\n",
              "      <td>0</td>\n",
              "      <td>1.597694</td>\n",
              "      <td>1.525868</td>\n",
              "      <td>0.593121</td>\n",
              "      <td>0.935032</td>\n",
              "      <td>00:50</td>\n",
              "    </tr>\n",
              "    <tr>\n",
              "      <td>1</td>\n",
              "      <td>1.355321</td>\n",
              "      <td>1.330642</td>\n",
              "      <td>0.675414</td>\n",
              "      <td>0.951338</td>\n",
              "      <td>00:50</td>\n",
              "    </tr>\n",
              "    <tr>\n",
              "      <td>2</td>\n",
              "      <td>1.215212</td>\n",
              "      <td>1.215372</td>\n",
              "      <td>0.722038</td>\n",
              "      <td>0.961529</td>\n",
              "      <td>00:50</td>\n",
              "    </tr>\n",
              "    <tr>\n",
              "      <td>3</td>\n",
              "      <td>1.119929</td>\n",
              "      <td>1.158857</td>\n",
              "      <td>0.741147</td>\n",
              "      <td>0.967389</td>\n",
              "      <td>00:50</td>\n",
              "    </tr>\n",
              "    <tr>\n",
              "      <td>4</td>\n",
              "      <td>0.991758</td>\n",
              "      <td>1.045556</td>\n",
              "      <td>0.791338</td>\n",
              "      <td>0.975541</td>\n",
              "      <td>00:50</td>\n",
              "    </tr>\n",
              "  </tbody>\n",
              "</table>"
            ]
          },
          "metadata": {
            "tags": []
          }
        },
        {
          "output_type": "stream",
          "text": [
            "Run: 3\n",
            "block=<function SEResNeXtBlock at 0x7f91600cfcb0> expansion=1 layers=[1, 1, 1, 1] groups=64 reduction=8\n",
            "\t\t\tDECONV\n"
          ],
          "name": "stdout"
        },
        {
          "output_type": "display_data",
          "data": {
            "text/plain": [
              "<IPython.core.display.HTML object>"
            ],
            "text/html": [
              "<table border=\"1\" class=\"dataframe\">\n",
              "  <thead>\n",
              "    <tr style=\"text-align: left;\">\n",
              "      <th>epoch</th>\n",
              "      <th>train_loss</th>\n",
              "      <th>valid_loss</th>\n",
              "      <th>accuracy</th>\n",
              "      <th>top_k_accuracy</th>\n",
              "      <th>time</th>\n",
              "    </tr>\n",
              "  </thead>\n",
              "  <tbody>\n",
              "    <tr>\n",
              "      <td>0</td>\n",
              "      <td>1.352714</td>\n",
              "      <td>1.281401</td>\n",
              "      <td>0.714140</td>\n",
              "      <td>0.954650</td>\n",
              "      <td>01:38</td>\n",
              "    </tr>\n",
              "    <tr>\n",
              "      <td>1</td>\n",
              "      <td>1.188276</td>\n",
              "      <td>1.193166</td>\n",
              "      <td>0.753376</td>\n",
              "      <td>0.965605</td>\n",
              "      <td>01:39</td>\n",
              "    </tr>\n",
              "    <tr>\n",
              "      <td>2</td>\n",
              "      <td>1.098454</td>\n",
              "      <td>1.159369</td>\n",
              "      <td>0.787006</td>\n",
              "      <td>0.969427</td>\n",
              "      <td>01:40</td>\n",
              "    </tr>\n",
              "    <tr>\n",
              "      <td>3</td>\n",
              "      <td>1.015317</td>\n",
              "      <td>1.110914</td>\n",
              "      <td>0.805350</td>\n",
              "      <td>0.974013</td>\n",
              "      <td>01:40</td>\n",
              "    </tr>\n",
              "    <tr>\n",
              "      <td>4</td>\n",
              "      <td>0.890204</td>\n",
              "      <td>1.057745</td>\n",
              "      <td>0.824713</td>\n",
              "      <td>0.979108</td>\n",
              "      <td>01:39</td>\n",
              "    </tr>\n",
              "  </tbody>\n",
              "</table>"
            ]
          },
          "metadata": {
            "tags": []
          }
        },
        {
          "output_type": "stream",
          "text": [
            "\t\t\tWithout DECONV\n",
            "block=<function SEResNeXtBlock at 0x7f91600cfcb0> expansion=1 layers=[1, 1, 1, 1] groups=64 reduction=8\n"
          ],
          "name": "stdout"
        },
        {
          "output_type": "display_data",
          "data": {
            "text/plain": [
              "<IPython.core.display.HTML object>"
            ],
            "text/html": [
              "<table border=\"1\" class=\"dataframe\">\n",
              "  <thead>\n",
              "    <tr style=\"text-align: left;\">\n",
              "      <th>epoch</th>\n",
              "      <th>train_loss</th>\n",
              "      <th>valid_loss</th>\n",
              "      <th>accuracy</th>\n",
              "      <th>top_k_accuracy</th>\n",
              "      <th>time</th>\n",
              "    </tr>\n",
              "  </thead>\n",
              "  <tbody>\n",
              "    <tr>\n",
              "      <td>0</td>\n",
              "      <td>1.567456</td>\n",
              "      <td>1.454579</td>\n",
              "      <td>0.618854</td>\n",
              "      <td>0.937070</td>\n",
              "      <td>00:50</td>\n",
              "    </tr>\n",
              "    <tr>\n",
              "      <td>1</td>\n",
              "      <td>1.340488</td>\n",
              "      <td>1.284122</td>\n",
              "      <td>0.694268</td>\n",
              "      <td>0.956178</td>\n",
              "      <td>00:50</td>\n",
              "    </tr>\n",
              "    <tr>\n",
              "      <td>2</td>\n",
              "      <td>1.195058</td>\n",
              "      <td>1.212665</td>\n",
              "      <td>0.722038</td>\n",
              "      <td>0.963312</td>\n",
              "      <td>00:50</td>\n",
              "    </tr>\n",
              "    <tr>\n",
              "      <td>3</td>\n",
              "      <td>1.117038</td>\n",
              "      <td>1.147652</td>\n",
              "      <td>0.749299</td>\n",
              "      <td>0.966115</td>\n",
              "      <td>00:50</td>\n",
              "    </tr>\n",
              "    <tr>\n",
              "      <td>4</td>\n",
              "      <td>1.002399</td>\n",
              "      <td>1.038908</td>\n",
              "      <td>0.793121</td>\n",
              "      <td>0.974013</td>\n",
              "      <td>00:50</td>\n",
              "    </tr>\n",
              "  </tbody>\n",
              "</table>"
            ]
          },
          "metadata": {
            "tags": []
          }
        },
        {
          "output_type": "stream",
          "text": [
            "Run: 4\n",
            "block=<function SEResNeXtBlock at 0x7f91600cfcb0> expansion=1 layers=[1, 1, 1, 1] groups=64 reduction=8\n",
            "\t\t\tDECONV\n"
          ],
          "name": "stdout"
        },
        {
          "output_type": "display_data",
          "data": {
            "text/plain": [
              "<IPython.core.display.HTML object>"
            ],
            "text/html": [
              "<table border=\"1\" class=\"dataframe\">\n",
              "  <thead>\n",
              "    <tr style=\"text-align: left;\">\n",
              "      <th>epoch</th>\n",
              "      <th>train_loss</th>\n",
              "      <th>valid_loss</th>\n",
              "      <th>accuracy</th>\n",
              "      <th>top_k_accuracy</th>\n",
              "      <th>time</th>\n",
              "    </tr>\n",
              "  </thead>\n",
              "  <tbody>\n",
              "    <tr>\n",
              "      <td>0</td>\n",
              "      <td>1.331698</td>\n",
              "      <td>1.236331</td>\n",
              "      <td>0.728153</td>\n",
              "      <td>0.958726</td>\n",
              "      <td>01:39</td>\n",
              "    </tr>\n",
              "    <tr>\n",
              "      <td>1</td>\n",
              "      <td>1.176906</td>\n",
              "      <td>1.183722</td>\n",
              "      <td>0.763312</td>\n",
              "      <td>0.966115</td>\n",
              "      <td>01:39</td>\n",
              "    </tr>\n",
              "    <tr>\n",
              "      <td>2</td>\n",
              "      <td>1.086058</td>\n",
              "      <td>1.118095</td>\n",
              "      <td>0.797197</td>\n",
              "      <td>0.969427</td>\n",
              "      <td>01:39</td>\n",
              "    </tr>\n",
              "    <tr>\n",
              "      <td>3</td>\n",
              "      <td>1.015656</td>\n",
              "      <td>1.115145</td>\n",
              "      <td>0.807898</td>\n",
              "      <td>0.972994</td>\n",
              "      <td>01:39</td>\n",
              "    </tr>\n",
              "    <tr>\n",
              "      <td>4</td>\n",
              "      <td>0.896063</td>\n",
              "      <td>1.024494</td>\n",
              "      <td>0.831847</td>\n",
              "      <td>0.979363</td>\n",
              "      <td>01:39</td>\n",
              "    </tr>\n",
              "  </tbody>\n",
              "</table>"
            ]
          },
          "metadata": {
            "tags": []
          }
        },
        {
          "output_type": "stream",
          "text": [
            "\t\t\tWithout DECONV\n",
            "block=<function SEResNeXtBlock at 0x7f91600cfcb0> expansion=1 layers=[1, 1, 1, 1] groups=64 reduction=8\n"
          ],
          "name": "stdout"
        },
        {
          "output_type": "display_data",
          "data": {
            "text/plain": [
              "<IPython.core.display.HTML object>"
            ],
            "text/html": [
              "<table border=\"1\" class=\"dataframe\">\n",
              "  <thead>\n",
              "    <tr style=\"text-align: left;\">\n",
              "      <th>epoch</th>\n",
              "      <th>train_loss</th>\n",
              "      <th>valid_loss</th>\n",
              "      <th>accuracy</th>\n",
              "      <th>top_k_accuracy</th>\n",
              "      <th>time</th>\n",
              "    </tr>\n",
              "  </thead>\n",
              "  <tbody>\n",
              "    <tr>\n",
              "      <td>0</td>\n",
              "      <td>1.581481</td>\n",
              "      <td>1.489838</td>\n",
              "      <td>0.606624</td>\n",
              "      <td>0.933758</td>\n",
              "      <td>00:50</td>\n",
              "    </tr>\n",
              "    <tr>\n",
              "      <td>1</td>\n",
              "      <td>1.336838</td>\n",
              "      <td>1.293241</td>\n",
              "      <td>0.689936</td>\n",
              "      <td>0.956178</td>\n",
              "      <td>00:50</td>\n",
              "    </tr>\n",
              "    <tr>\n",
              "      <td>2</td>\n",
              "      <td>1.185967</td>\n",
              "      <td>1.196432</td>\n",
              "      <td>0.731465</td>\n",
              "      <td>0.963822</td>\n",
              "      <td>00:50</td>\n",
              "    </tr>\n",
              "    <tr>\n",
              "      <td>3</td>\n",
              "      <td>1.147557</td>\n",
              "      <td>1.174922</td>\n",
              "      <td>0.739618</td>\n",
              "      <td>0.966624</td>\n",
              "      <td>00:50</td>\n",
              "    </tr>\n",
              "    <tr>\n",
              "      <td>4</td>\n",
              "      <td>1.008905</td>\n",
              "      <td>1.043918</td>\n",
              "      <td>0.788535</td>\n",
              "      <td>0.975541</td>\n",
              "      <td>00:50</td>\n",
              "    </tr>\n",
              "  </tbody>\n",
              "</table>"
            ]
          },
          "metadata": {
            "tags": []
          }
        }
      ]
    },
    {
      "cell_type": "code",
      "metadata": {
        "id": "S22V5zfU-iiz",
        "colab_type": "code",
        "outputId": "fa133b0a-be79-4fad-c57b-486ceb9dc012",
        "colab": {
          "base_uri": "https://localhost:8080/",
          "height": 918
        }
      },
      "source": [
        "learn = main(runs=2, lr=lr, arch='xresnet50', wd=0.0002, woof=0, epochs=5, blur=True)"
      ],
      "execution_count": 0,
      "outputs": [
        {
          "output_type": "stream",
          "text": [
            "epochs: 5; lr: 0.0008; size: 128; sqrmom: 0.99; mom: 0.9; eps: 1e-06\n",
            "fp16: 0; arch: xresnet50; wd: 0.0002; act_fn: MishJit; bs: 32\n",
            "pool: AvgPool; woof: 0; sh:0.0\n",
            "Run: 0\n",
            "\t\t\tDECONV\n"
          ],
          "name": "stdout"
        },
        {
          "output_type": "display_data",
          "data": {
            "text/plain": [
              "<IPython.core.display.HTML object>"
            ],
            "text/html": [
              "<table border=\"1\" class=\"dataframe\">\n",
              "  <thead>\n",
              "    <tr style=\"text-align: left;\">\n",
              "      <th>epoch</th>\n",
              "      <th>train_loss</th>\n",
              "      <th>valid_loss</th>\n",
              "      <th>accuracy</th>\n",
              "      <th>top_k_accuracy</th>\n",
              "      <th>time</th>\n",
              "    </tr>\n",
              "  </thead>\n",
              "  <tbody>\n",
              "    <tr>\n",
              "      <td>0</td>\n",
              "      <td>1.566069</td>\n",
              "      <td>1.634002</td>\n",
              "      <td>0.582930</td>\n",
              "      <td>0.924076</td>\n",
              "      <td>02:05</td>\n",
              "    </tr>\n",
              "    <tr>\n",
              "      <td>1</td>\n",
              "      <td>1.325585</td>\n",
              "      <td>1.386784</td>\n",
              "      <td>0.672102</td>\n",
              "      <td>0.952102</td>\n",
              "      <td>02:07</td>\n",
              "    </tr>\n",
              "    <tr>\n",
              "      <td>2</td>\n",
              "      <td>1.224874</td>\n",
              "      <td>1.248818</td>\n",
              "      <td>0.721274</td>\n",
              "      <td>0.955414</td>\n",
              "      <td>02:06</td>\n",
              "    </tr>\n",
              "    <tr>\n",
              "      <td>3</td>\n",
              "      <td>1.130751</td>\n",
              "      <td>1.163908</td>\n",
              "      <td>0.737070</td>\n",
              "      <td>0.966369</td>\n",
              "      <td>02:07</td>\n",
              "    </tr>\n",
              "    <tr>\n",
              "      <td>4</td>\n",
              "      <td>0.981086</td>\n",
              "      <td>0.954295</td>\n",
              "      <td>0.819363</td>\n",
              "      <td>0.978854</td>\n",
              "      <td>02:07</td>\n",
              "    </tr>\n",
              "  </tbody>\n",
              "</table>"
            ]
          },
          "metadata": {
            "tags": []
          }
        },
        {
          "output_type": "stream",
          "text": [
            "\t\t\tWithout DECONV\n"
          ],
          "name": "stdout"
        },
        {
          "output_type": "display_data",
          "data": {
            "text/plain": [
              "<IPython.core.display.HTML object>"
            ],
            "text/html": [
              "<table border=\"1\" class=\"dataframe\">\n",
              "  <thead>\n",
              "    <tr style=\"text-align: left;\">\n",
              "      <th>epoch</th>\n",
              "      <th>train_loss</th>\n",
              "      <th>valid_loss</th>\n",
              "      <th>accuracy</th>\n",
              "      <th>top_k_accuracy</th>\n",
              "      <th>time</th>\n",
              "    </tr>\n",
              "  </thead>\n",
              "  <tbody>\n",
              "    <tr>\n",
              "      <td>0</td>\n",
              "      <td>1.499379</td>\n",
              "      <td>1.385681</td>\n",
              "      <td>0.642038</td>\n",
              "      <td>0.947261</td>\n",
              "      <td>01:05</td>\n",
              "    </tr>\n",
              "    <tr>\n",
              "      <td>1</td>\n",
              "      <td>1.269868</td>\n",
              "      <td>1.284974</td>\n",
              "      <td>0.685096</td>\n",
              "      <td>0.954395</td>\n",
              "      <td>01:05</td>\n",
              "    </tr>\n",
              "    <tr>\n",
              "      <td>2</td>\n",
              "      <td>1.159666</td>\n",
              "      <td>1.215163</td>\n",
              "      <td>0.718726</td>\n",
              "      <td>0.967134</td>\n",
              "      <td>01:05</td>\n",
              "    </tr>\n",
              "    <tr>\n",
              "      <td>3</td>\n",
              "      <td>1.086012</td>\n",
              "      <td>1.177339</td>\n",
              "      <td>0.727643</td>\n",
              "      <td>0.970446</td>\n",
              "      <td>01:05</td>\n",
              "    </tr>\n",
              "    <tr>\n",
              "      <td>4</td>\n",
              "      <td>0.920539</td>\n",
              "      <td>0.975823</td>\n",
              "      <td>0.821911</td>\n",
              "      <td>0.982930</td>\n",
              "      <td>01:05</td>\n",
              "    </tr>\n",
              "  </tbody>\n",
              "</table>"
            ]
          },
          "metadata": {
            "tags": []
          }
        },
        {
          "output_type": "stream",
          "text": [
            "Run: 1\n",
            "\t\t\tDECONV\n"
          ],
          "name": "stdout"
        },
        {
          "output_type": "display_data",
          "data": {
            "text/plain": [
              "<IPython.core.display.HTML object>"
            ],
            "text/html": [
              "<table border=\"1\" class=\"dataframe\">\n",
              "  <thead>\n",
              "    <tr style=\"text-align: left;\">\n",
              "      <th>epoch</th>\n",
              "      <th>train_loss</th>\n",
              "      <th>valid_loss</th>\n",
              "      <th>accuracy</th>\n",
              "      <th>top_k_accuracy</th>\n",
              "      <th>time</th>\n",
              "    </tr>\n",
              "  </thead>\n",
              "  <tbody>\n",
              "    <tr>\n",
              "      <td>0</td>\n",
              "      <td>1.624698</td>\n",
              "      <td>1.674228</td>\n",
              "      <td>0.555159</td>\n",
              "      <td>0.910573</td>\n",
              "      <td>02:07</td>\n",
              "    </tr>\n",
              "    <tr>\n",
              "      <td>1</td>\n",
              "      <td>1.349994</td>\n",
              "      <td>1.305387</td>\n",
              "      <td>0.683312</td>\n",
              "      <td>0.944204</td>\n",
              "      <td>02:07</td>\n",
              "    </tr>\n",
              "    <tr>\n",
              "      <td>2</td>\n",
              "      <td>1.231272</td>\n",
              "      <td>1.296888</td>\n",
              "      <td>0.688408</td>\n",
              "      <td>0.942166</td>\n",
              "      <td>02:07</td>\n",
              "    </tr>\n",
              "    <tr>\n",
              "      <td>3</td>\n",
              "      <td>1.134578</td>\n",
              "      <td>1.178458</td>\n",
              "      <td>0.736815</td>\n",
              "      <td>0.966879</td>\n",
              "      <td>02:07</td>\n",
              "    </tr>\n",
              "    <tr>\n",
              "      <td>4</td>\n",
              "      <td>0.950994</td>\n",
              "      <td>0.957555</td>\n",
              "      <td>0.817834</td>\n",
              "      <td>0.981656</td>\n",
              "      <td>02:07</td>\n",
              "    </tr>\n",
              "  </tbody>\n",
              "</table>"
            ]
          },
          "metadata": {
            "tags": []
          }
        },
        {
          "output_type": "stream",
          "text": [
            "\t\t\tWithout DECONV\n"
          ],
          "name": "stdout"
        },
        {
          "output_type": "display_data",
          "data": {
            "text/plain": [
              "<IPython.core.display.HTML object>"
            ],
            "text/html": [
              "<table border=\"1\" class=\"dataframe\">\n",
              "  <thead>\n",
              "    <tr style=\"text-align: left;\">\n",
              "      <th>epoch</th>\n",
              "      <th>train_loss</th>\n",
              "      <th>valid_loss</th>\n",
              "      <th>accuracy</th>\n",
              "      <th>top_k_accuracy</th>\n",
              "      <th>time</th>\n",
              "    </tr>\n",
              "  </thead>\n",
              "  <tbody>\n",
              "    <tr>\n",
              "      <td>0</td>\n",
              "      <td>1.522851</td>\n",
              "      <td>1.424098</td>\n",
              "      <td>0.630573</td>\n",
              "      <td>0.945223</td>\n",
              "      <td>01:05</td>\n",
              "    </tr>\n",
              "    <tr>\n",
              "      <td>1</td>\n",
              "      <td>1.277711</td>\n",
              "      <td>1.286479</td>\n",
              "      <td>0.684841</td>\n",
              "      <td>0.966115</td>\n",
              "      <td>01:05</td>\n",
              "    </tr>\n",
              "    <tr>\n",
              "      <td>2</td>\n",
              "      <td>1.182055</td>\n",
              "      <td>1.264717</td>\n",
              "      <td>0.703694</td>\n",
              "      <td>0.962038</td>\n",
              "      <td>01:05</td>\n",
              "    </tr>\n",
              "    <tr>\n",
              "      <td>3</td>\n",
              "      <td>1.110640</td>\n",
              "      <td>1.123935</td>\n",
              "      <td>0.753631</td>\n",
              "      <td>0.972229</td>\n",
              "      <td>01:05</td>\n",
              "    </tr>\n",
              "    <tr>\n",
              "      <td>4</td>\n",
              "      <td>0.931223</td>\n",
              "      <td>0.996253</td>\n",
              "      <td>0.819108</td>\n",
              "      <td>0.978344</td>\n",
              "      <td>01:05</td>\n",
              "    </tr>\n",
              "  </tbody>\n",
              "</table>"
            ]
          },
          "metadata": {
            "tags": []
          }
        }
      ]
    },
    {
      "cell_type": "markdown",
      "metadata": {
        "id": "dSZXNMCSmZJq",
        "colab_type": "text"
      },
      "source": [
        "## Comparison on ImageWoof Dataset"
      ]
    },
    {
      "cell_type": "code",
      "metadata": {
        "id": "WhoS2OgaMH0r",
        "colab_type": "code",
        "outputId": "84f2f5c9-2be9-4d11-db9d-151937a7092e",
        "colab": {
          "base_uri": "https://localhost:8080/",
          "height": 1000
        }
      },
      "source": [
        "learn = main(runs=1, arch='xresnet18', epochs=20)"
      ],
      "execution_count": 0,
      "outputs": [
        {
          "output_type": "stream",
          "text": [
            "epochs: 20; lr: 0.01; size: 128; sqrmom: 0.99; mom: 0.9; eps: 1e-06\n",
            "fp16: 0; arch: xresnet18; wd: 0.01; act_fn: MishJit; bs: 32\n",
            "pool: AvgPool; woof: 1; sh:0.0\n",
            "Run: 0\n",
            "\t\t\tDECONV\n"
          ],
          "name": "stdout"
        },
        {
          "output_type": "display_data",
          "data": {
            "text/plain": [
              "<IPython.core.display.HTML object>"
            ],
            "text/html": [
              "<table border=\"1\" class=\"dataframe\">\n",
              "  <thead>\n",
              "    <tr style=\"text-align: left;\">\n",
              "      <th>epoch</th>\n",
              "      <th>train_loss</th>\n",
              "      <th>valid_loss</th>\n",
              "      <th>accuracy</th>\n",
              "      <th>top_k_accuracy</th>\n",
              "      <th>time</th>\n",
              "    </tr>\n",
              "  </thead>\n",
              "  <tbody>\n",
              "    <tr>\n",
              "      <td>0</td>\n",
              "      <td>2.126485</td>\n",
              "      <td>2.655085</td>\n",
              "      <td>0.217867</td>\n",
              "      <td>0.729448</td>\n",
              "      <td>01:32</td>\n",
              "    </tr>\n",
              "    <tr>\n",
              "      <td>1</td>\n",
              "      <td>1.906117</td>\n",
              "      <td>2.056211</td>\n",
              "      <td>0.370069</td>\n",
              "      <td>0.854670</td>\n",
              "      <td>01:33</td>\n",
              "    </tr>\n",
              "    <tr>\n",
              "      <td>2</td>\n",
              "      <td>1.715664</td>\n",
              "      <td>1.751881</td>\n",
              "      <td>0.488165</td>\n",
              "      <td>0.896920</td>\n",
              "      <td>01:33</td>\n",
              "    </tr>\n",
              "    <tr>\n",
              "      <td>3</td>\n",
              "      <td>1.554147</td>\n",
              "      <td>1.485931</td>\n",
              "      <td>0.589972</td>\n",
              "      <td>0.939934</td>\n",
              "      <td>01:33</td>\n",
              "    </tr>\n",
              "    <tr>\n",
              "      <td>4</td>\n",
              "      <td>1.430751</td>\n",
              "      <td>1.365463</td>\n",
              "      <td>0.637567</td>\n",
              "      <td>0.945279</td>\n",
              "      <td>01:34</td>\n",
              "    </tr>\n",
              "    <tr>\n",
              "      <td>5</td>\n",
              "      <td>1.356376</td>\n",
              "      <td>1.281747</td>\n",
              "      <td>0.679053</td>\n",
              "      <td>0.949351</td>\n",
              "      <td>01:34</td>\n",
              "    </tr>\n",
              "    <tr>\n",
              "      <td>6</td>\n",
              "      <td>1.287881</td>\n",
              "      <td>1.200325</td>\n",
              "      <td>0.712395</td>\n",
              "      <td>0.955968</td>\n",
              "      <td>01:34</td>\n",
              "    </tr>\n",
              "    <tr>\n",
              "      <td>7</td>\n",
              "      <td>1.195346</td>\n",
              "      <td>1.177968</td>\n",
              "      <td>0.716213</td>\n",
              "      <td>0.966149</td>\n",
              "      <td>01:34</td>\n",
              "    </tr>\n",
              "    <tr>\n",
              "      <td>8</td>\n",
              "      <td>1.143416</td>\n",
              "      <td>1.158346</td>\n",
              "      <td>0.721049</td>\n",
              "      <td>0.966913</td>\n",
              "      <td>01:34</td>\n",
              "    </tr>\n",
              "    <tr>\n",
              "      <td>9</td>\n",
              "      <td>1.091735</td>\n",
              "      <td>1.112769</td>\n",
              "      <td>0.750318</td>\n",
              "      <td>0.967167</td>\n",
              "      <td>01:33</td>\n",
              "    </tr>\n",
              "    <tr>\n",
              "      <td>10</td>\n",
              "      <td>1.068031</td>\n",
              "      <td>1.109514</td>\n",
              "      <td>0.748282</td>\n",
              "      <td>0.965895</td>\n",
              "      <td>01:33</td>\n",
              "    </tr>\n",
              "    <tr>\n",
              "      <td>11</td>\n",
              "      <td>1.013332</td>\n",
              "      <td>1.116972</td>\n",
              "      <td>0.754136</td>\n",
              "      <td>0.966658</td>\n",
              "      <td>01:33</td>\n",
              "    </tr>\n",
              "    <tr>\n",
              "      <td>12</td>\n",
              "      <td>0.966525</td>\n",
              "      <td>1.108013</td>\n",
              "      <td>0.751082</td>\n",
              "      <td>0.967167</td>\n",
              "      <td>01:33</td>\n",
              "    </tr>\n",
              "    <tr>\n",
              "      <td>13</td>\n",
              "      <td>0.970045</td>\n",
              "      <td>1.057193</td>\n",
              "      <td>0.780860</td>\n",
              "      <td>0.967422</td>\n",
              "      <td>01:33</td>\n",
              "    </tr>\n",
              "    <tr>\n",
              "      <td>14</td>\n",
              "      <td>0.915729</td>\n",
              "      <td>1.049582</td>\n",
              "      <td>0.781369</td>\n",
              "      <td>0.970221</td>\n",
              "      <td>01:34</td>\n",
              "    </tr>\n",
              "    <tr>\n",
              "      <td>15</td>\n",
              "      <td>0.874279</td>\n",
              "      <td>1.053576</td>\n",
              "      <td>0.783405</td>\n",
              "      <td>0.966149</td>\n",
              "      <td>01:34</td>\n",
              "    </tr>\n",
              "    <tr>\n",
              "      <td>16</td>\n",
              "      <td>0.830780</td>\n",
              "      <td>1.044355</td>\n",
              "      <td>0.791550</td>\n",
              "      <td>0.969458</td>\n",
              "      <td>01:34</td>\n",
              "    </tr>\n",
              "    <tr>\n",
              "      <td>17</td>\n",
              "      <td>0.727929</td>\n",
              "      <td>1.017091</td>\n",
              "      <td>0.808348</td>\n",
              "      <td>0.972003</td>\n",
              "      <td>01:33</td>\n",
              "    </tr>\n",
              "    <tr>\n",
              "      <td>18</td>\n",
              "      <td>0.669075</td>\n",
              "      <td>1.022736</td>\n",
              "      <td>0.807585</td>\n",
              "      <td>0.968185</td>\n",
              "      <td>01:33</td>\n",
              "    </tr>\n",
              "    <tr>\n",
              "      <td>19</td>\n",
              "      <td>0.636643</td>\n",
              "      <td>1.014456</td>\n",
              "      <td>0.810130</td>\n",
              "      <td>0.969203</td>\n",
              "      <td>01:33</td>\n",
              "    </tr>\n",
              "  </tbody>\n",
              "</table>"
            ]
          },
          "metadata": {
            "tags": []
          }
        },
        {
          "output_type": "stream",
          "text": [
            "\t\t\tWithout DECONV\n"
          ],
          "name": "stdout"
        },
        {
          "output_type": "display_data",
          "data": {
            "text/plain": [
              "<IPython.core.display.HTML object>"
            ],
            "text/html": [
              "<table border=\"1\" class=\"dataframe\">\n",
              "  <thead>\n",
              "    <tr style=\"text-align: left;\">\n",
              "      <th>epoch</th>\n",
              "      <th>train_loss</th>\n",
              "      <th>valid_loss</th>\n",
              "      <th>accuracy</th>\n",
              "      <th>top_k_accuracy</th>\n",
              "      <th>time</th>\n",
              "    </tr>\n",
              "  </thead>\n",
              "  <tbody>\n",
              "    <tr>\n",
              "      <td>0</td>\n",
              "      <td>2.033059</td>\n",
              "      <td>1.970296</td>\n",
              "      <td>0.306694</td>\n",
              "      <td>0.830237</td>\n",
              "      <td>00:45</td>\n",
              "    </tr>\n",
              "    <tr>\n",
              "      <td>1</td>\n",
              "      <td>1.850629</td>\n",
              "      <td>1.871534</td>\n",
              "      <td>0.375923</td>\n",
              "      <td>0.850853</td>\n",
              "      <td>00:45</td>\n",
              "    </tr>\n",
              "    <tr>\n",
              "      <td>2</td>\n",
              "      <td>1.668181</td>\n",
              "      <td>1.720360</td>\n",
              "      <td>0.453805</td>\n",
              "      <td>0.899720</td>\n",
              "      <td>00:45</td>\n",
              "    </tr>\n",
              "    <tr>\n",
              "      <td>3</td>\n",
              "      <td>1.574270</td>\n",
              "      <td>1.492040</td>\n",
              "      <td>0.572156</td>\n",
              "      <td>0.933571</td>\n",
              "      <td>00:45</td>\n",
              "    </tr>\n",
              "    <tr>\n",
              "      <td>4</td>\n",
              "      <td>1.444184</td>\n",
              "      <td>1.371611</td>\n",
              "      <td>0.623314</td>\n",
              "      <td>0.947315</td>\n",
              "      <td>00:45</td>\n",
              "    </tr>\n",
              "    <tr>\n",
              "      <td>5</td>\n",
              "      <td>1.353743</td>\n",
              "      <td>1.358958</td>\n",
              "      <td>0.629422</td>\n",
              "      <td>0.947569</td>\n",
              "      <td>00:45</td>\n",
              "    </tr>\n",
              "    <tr>\n",
              "      <td>6</td>\n",
              "      <td>1.263933</td>\n",
              "      <td>1.286520</td>\n",
              "      <td>0.666073</td>\n",
              "      <td>0.953932</td>\n",
              "      <td>00:46</td>\n",
              "    </tr>\n",
              "    <tr>\n",
              "      <td>7</td>\n",
              "      <td>1.192303</td>\n",
              "      <td>1.179975</td>\n",
              "      <td>0.714431</td>\n",
              "      <td>0.962840</td>\n",
              "      <td>00:46</td>\n",
              "    </tr>\n",
              "    <tr>\n",
              "      <td>8</td>\n",
              "      <td>1.167579</td>\n",
              "      <td>1.175913</td>\n",
              "      <td>0.728175</td>\n",
              "      <td>0.962840</td>\n",
              "      <td>00:45</td>\n",
              "    </tr>\n",
              "    <tr>\n",
              "      <td>9</td>\n",
              "      <td>1.104185</td>\n",
              "      <td>1.171258</td>\n",
              "      <td>0.718249</td>\n",
              "      <td>0.963095</td>\n",
              "      <td>00:45</td>\n",
              "    </tr>\n",
              "    <tr>\n",
              "      <td>10</td>\n",
              "      <td>1.068572</td>\n",
              "      <td>1.127527</td>\n",
              "      <td>0.736829</td>\n",
              "      <td>0.966658</td>\n",
              "      <td>00:45</td>\n",
              "    </tr>\n",
              "    <tr>\n",
              "      <td>11</td>\n",
              "      <td>1.016667</td>\n",
              "      <td>1.098140</td>\n",
              "      <td>0.751336</td>\n",
              "      <td>0.968185</td>\n",
              "      <td>00:45</td>\n",
              "    </tr>\n",
              "    <tr>\n",
              "      <td>12</td>\n",
              "      <td>0.949474</td>\n",
              "      <td>1.081356</td>\n",
              "      <td>0.768643</td>\n",
              "      <td>0.966149</td>\n",
              "      <td>00:45</td>\n",
              "    </tr>\n",
              "    <tr>\n",
              "      <td>13</td>\n",
              "      <td>0.926047</td>\n",
              "      <td>1.116624</td>\n",
              "      <td>0.746755</td>\n",
              "      <td>0.960295</td>\n",
              "      <td>00:45</td>\n",
              "    </tr>\n",
              "    <tr>\n",
              "      <td>14</td>\n",
              "      <td>0.890666</td>\n",
              "      <td>1.113577</td>\n",
              "      <td>0.754645</td>\n",
              "      <td>0.963604</td>\n",
              "      <td>00:45</td>\n",
              "    </tr>\n",
              "    <tr>\n",
              "      <td>15</td>\n",
              "      <td>0.835449</td>\n",
              "      <td>1.090615</td>\n",
              "      <td>0.767116</td>\n",
              "      <td>0.965895</td>\n",
              "      <td>00:45</td>\n",
              "    </tr>\n",
              "    <tr>\n",
              "      <td>16</td>\n",
              "      <td>0.775286</td>\n",
              "      <td>1.077416</td>\n",
              "      <td>0.766098</td>\n",
              "      <td>0.971240</td>\n",
              "      <td>00:45</td>\n",
              "    </tr>\n",
              "    <tr>\n",
              "      <td>17</td>\n",
              "      <td>0.686777</td>\n",
              "      <td>1.035941</td>\n",
              "      <td>0.788750</td>\n",
              "      <td>0.969458</td>\n",
              "      <td>00:45</td>\n",
              "    </tr>\n",
              "    <tr>\n",
              "      <td>18</td>\n",
              "      <td>0.631688</td>\n",
              "      <td>1.017624</td>\n",
              "      <td>0.797658</td>\n",
              "      <td>0.967931</td>\n",
              "      <td>00:45</td>\n",
              "    </tr>\n",
              "    <tr>\n",
              "      <td>19</td>\n",
              "      <td>0.612976</td>\n",
              "      <td>1.016065</td>\n",
              "      <td>0.800204</td>\n",
              "      <td>0.968949</td>\n",
              "      <td>00:45</td>\n",
              "    </tr>\n",
              "  </tbody>\n",
              "</table>"
            ]
          },
          "metadata": {
            "tags": []
          }
        }
      ]
    },
    {
      "cell_type": "code",
      "metadata": {
        "id": "bjj-9ME5aUgl",
        "colab_type": "code",
        "outputId": "73b4257d-4a9b-44d5-bdad-ccce619272a7",
        "colab": {
          "base_uri": "https://localhost:8080/",
          "height": 493
        }
      },
      "source": [
        "learn = main(runs=1, arch='xresnet18', woof=1, epochs=5)"
      ],
      "execution_count": 0,
      "outputs": [
        {
          "output_type": "stream",
          "text": [
            "epochs: 5; lr: 0.01; size: 128; sqrmom: 0.99; mom: 0.9; eps: 1e-06\n",
            "fp16: 0; arch: xresnet18; wd: 0.01; act_fn: MishJit; bs: 32\n",
            "pool: AvgPool; woof: 1; sh:0.0\n",
            "Run: 0\n",
            "\t\t\tDECONV\n"
          ],
          "name": "stdout"
        },
        {
          "output_type": "display_data",
          "data": {
            "text/plain": [
              "<IPython.core.display.HTML object>"
            ],
            "text/html": [
              "<table border=\"1\" class=\"dataframe\">\n",
              "  <thead>\n",
              "    <tr style=\"text-align: left;\">\n",
              "      <th>epoch</th>\n",
              "      <th>train_loss</th>\n",
              "      <th>valid_loss</th>\n",
              "      <th>accuracy</th>\n",
              "      <th>top_k_accuracy</th>\n",
              "      <th>time</th>\n",
              "    </tr>\n",
              "  </thead>\n",
              "  <tbody>\n",
              "    <tr>\n",
              "      <td>0</td>\n",
              "      <td>2.118410</td>\n",
              "      <td>2.810780</td>\n",
              "      <td>0.261390</td>\n",
              "      <td>0.758972</td>\n",
              "      <td>01:31</td>\n",
              "    </tr>\n",
              "    <tr>\n",
              "      <td>1</td>\n",
              "      <td>1.943351</td>\n",
              "      <td>1.965958</td>\n",
              "      <td>0.380249</td>\n",
              "      <td>0.839654</td>\n",
              "      <td>01:32</td>\n",
              "    </tr>\n",
              "    <tr>\n",
              "      <td>2</td>\n",
              "      <td>1.695222</td>\n",
              "      <td>1.766248</td>\n",
              "      <td>0.473912</td>\n",
              "      <td>0.889030</td>\n",
              "      <td>01:32</td>\n",
              "    </tr>\n",
              "    <tr>\n",
              "      <td>3</td>\n",
              "      <td>1.595158</td>\n",
              "      <td>1.447325</td>\n",
              "      <td>0.594044</td>\n",
              "      <td>0.943497</td>\n",
              "      <td>01:32</td>\n",
              "    </tr>\n",
              "    <tr>\n",
              "      <td>4</td>\n",
              "      <td>1.284041</td>\n",
              "      <td>1.198919</td>\n",
              "      <td>0.706541</td>\n",
              "      <td>0.962840</td>\n",
              "      <td>01:33</td>\n",
              "    </tr>\n",
              "  </tbody>\n",
              "</table>"
            ]
          },
          "metadata": {
            "tags": []
          }
        },
        {
          "output_type": "stream",
          "text": [
            "\t\t\tWithout DECONV\n"
          ],
          "name": "stdout"
        },
        {
          "output_type": "display_data",
          "data": {
            "text/plain": [
              "<IPython.core.display.HTML object>"
            ],
            "text/html": [
              "<table border=\"1\" class=\"dataframe\">\n",
              "  <thead>\n",
              "    <tr style=\"text-align: left;\">\n",
              "      <th>epoch</th>\n",
              "      <th>train_loss</th>\n",
              "      <th>valid_loss</th>\n",
              "      <th>accuracy</th>\n",
              "      <th>top_k_accuracy</th>\n",
              "      <th>time</th>\n",
              "    </tr>\n",
              "  </thead>\n",
              "  <tbody>\n",
              "    <tr>\n",
              "      <td>0</td>\n",
              "      <td>2.023893</td>\n",
              "      <td>1.972633</td>\n",
              "      <td>0.326546</td>\n",
              "      <td>0.836854</td>\n",
              "      <td>00:45</td>\n",
              "    </tr>\n",
              "    <tr>\n",
              "      <td>1</td>\n",
              "      <td>1.827891</td>\n",
              "      <td>1.749221</td>\n",
              "      <td>0.430898</td>\n",
              "      <td>0.892339</td>\n",
              "      <td>00:45</td>\n",
              "    </tr>\n",
              "    <tr>\n",
              "      <td>2</td>\n",
              "      <td>1.656285</td>\n",
              "      <td>1.619626</td>\n",
              "      <td>0.491983</td>\n",
              "      <td>0.914991</td>\n",
              "      <td>00:46</td>\n",
              "    </tr>\n",
              "    <tr>\n",
              "      <td>3</td>\n",
              "      <td>1.518014</td>\n",
              "      <td>1.484798</td>\n",
              "      <td>0.560702</td>\n",
              "      <td>0.938152</td>\n",
              "      <td>00:45</td>\n",
              "    </tr>\n",
              "    <tr>\n",
              "      <td>4</td>\n",
              "      <td>1.282336</td>\n",
              "      <td>1.259454</td>\n",
              "      <td>0.683635</td>\n",
              "      <td>0.956223</td>\n",
              "      <td>00:45</td>\n",
              "    </tr>\n",
              "  </tbody>\n",
              "</table>"
            ]
          },
          "metadata": {
            "tags": []
          }
        }
      ]
    },
    {
      "cell_type": "code",
      "metadata": {
        "id": "nzU5ehmZnFlq",
        "colab_type": "code",
        "outputId": "730f4dc5-8da3-4faa-d9a9-1f99f3fa4ec5",
        "colab": {
          "base_uri": "https://localhost:8080/",
          "height": 918
        }
      },
      "source": [
        "arch='xresnet18'\n",
        "learn = main(runs=2, arch=arch, epochs=5, opt='sgd', act_fn = 'inplace_relu')"
      ],
      "execution_count": 0,
      "outputs": [
        {
          "output_type": "stream",
          "text": [
            "epochs: 5; lr: 0.01; size: 128; sqrmom: 0.99; mom: 0.9; eps: 1e-06\n",
            "fp16: 0; arch: xresnet18; wd: 0.01; act_fn: inplace_relu; bs: 32\n",
            "pool: AvgPool; woof: 1; sh:0.0\n",
            "Run: 0\n",
            "\t\t\tDECONV\n"
          ],
          "name": "stdout"
        },
        {
          "output_type": "display_data",
          "data": {
            "text/plain": [
              "<IPython.core.display.HTML object>"
            ],
            "text/html": [
              "<table border=\"1\" class=\"dataframe\">\n",
              "  <thead>\n",
              "    <tr style=\"text-align: left;\">\n",
              "      <th>epoch</th>\n",
              "      <th>train_loss</th>\n",
              "      <th>valid_loss</th>\n",
              "      <th>accuracy</th>\n",
              "      <th>top_k_accuracy</th>\n",
              "      <th>time</th>\n",
              "    </tr>\n",
              "  </thead>\n",
              "  <tbody>\n",
              "    <tr>\n",
              "      <td>0</td>\n",
              "      <td>1.921049</td>\n",
              "      <td>2.027209</td>\n",
              "      <td>0.372359</td>\n",
              "      <td>0.834054</td>\n",
              "      <td>01:29</td>\n",
              "    </tr>\n",
              "    <tr>\n",
              "      <td>1</td>\n",
              "      <td>1.744858</td>\n",
              "      <td>1.728438</td>\n",
              "      <td>0.482566</td>\n",
              "      <td>0.899975</td>\n",
              "      <td>01:30</td>\n",
              "    </tr>\n",
              "    <tr>\n",
              "      <td>2</td>\n",
              "      <td>1.593387</td>\n",
              "      <td>1.612221</td>\n",
              "      <td>0.533724</td>\n",
              "      <td>0.915500</td>\n",
              "      <td>01:31</td>\n",
              "    </tr>\n",
              "    <tr>\n",
              "      <td>3</td>\n",
              "      <td>1.506956</td>\n",
              "      <td>1.499520</td>\n",
              "      <td>0.581318</td>\n",
              "      <td>0.933316</td>\n",
              "      <td>01:31</td>\n",
              "    </tr>\n",
              "    <tr>\n",
              "      <td>4</td>\n",
              "      <td>1.306175</td>\n",
              "      <td>1.381334</td>\n",
              "      <td>0.636040</td>\n",
              "      <td>0.942479</td>\n",
              "      <td>01:31</td>\n",
              "    </tr>\n",
              "  </tbody>\n",
              "</table>"
            ]
          },
          "metadata": {
            "tags": []
          }
        },
        {
          "output_type": "stream",
          "text": [
            "\t\t\tWithout DECONV\n"
          ],
          "name": "stdout"
        },
        {
          "output_type": "display_data",
          "data": {
            "text/plain": [
              "<IPython.core.display.HTML object>"
            ],
            "text/html": [
              "<table border=\"1\" class=\"dataframe\">\n",
              "  <thead>\n",
              "    <tr style=\"text-align: left;\">\n",
              "      <th>epoch</th>\n",
              "      <th>train_loss</th>\n",
              "      <th>valid_loss</th>\n",
              "      <th>accuracy</th>\n",
              "      <th>top_k_accuracy</th>\n",
              "      <th>time</th>\n",
              "    </tr>\n",
              "  </thead>\n",
              "  <tbody>\n",
              "    <tr>\n",
              "      <td>0</td>\n",
              "      <td>2.108419</td>\n",
              "      <td>2.212230</td>\n",
              "      <td>0.257572</td>\n",
              "      <td>0.735556</td>\n",
              "      <td>00:43</td>\n",
              "    </tr>\n",
              "    <tr>\n",
              "      <td>1</td>\n",
              "      <td>1.979659</td>\n",
              "      <td>2.091464</td>\n",
              "      <td>0.278697</td>\n",
              "      <td>0.804785</td>\n",
              "      <td>00:43</td>\n",
              "    </tr>\n",
              "    <tr>\n",
              "      <td>2</td>\n",
              "      <td>1.855821</td>\n",
              "      <td>2.305519</td>\n",
              "      <td>0.261899</td>\n",
              "      <td>0.761008</td>\n",
              "      <td>00:43</td>\n",
              "    </tr>\n",
              "    <tr>\n",
              "      <td>3</td>\n",
              "      <td>1.766648</td>\n",
              "      <td>2.389537</td>\n",
              "      <td>0.301349</td>\n",
              "      <td>0.750573</td>\n",
              "      <td>00:43</td>\n",
              "    </tr>\n",
              "    <tr>\n",
              "      <td>4</td>\n",
              "      <td>1.603161</td>\n",
              "      <td>1.583165</td>\n",
              "      <td>0.523288</td>\n",
              "      <td>0.926190</td>\n",
              "      <td>00:43</td>\n",
              "    </tr>\n",
              "  </tbody>\n",
              "</table>"
            ]
          },
          "metadata": {
            "tags": []
          }
        },
        {
          "output_type": "stream",
          "text": [
            "Run: 1\n",
            "\t\t\tDECONV\n"
          ],
          "name": "stdout"
        },
        {
          "output_type": "display_data",
          "data": {
            "text/plain": [
              "<IPython.core.display.HTML object>"
            ],
            "text/html": [
              "<table border=\"1\" class=\"dataframe\">\n",
              "  <thead>\n",
              "    <tr style=\"text-align: left;\">\n",
              "      <th>epoch</th>\n",
              "      <th>train_loss</th>\n",
              "      <th>valid_loss</th>\n",
              "      <th>accuracy</th>\n",
              "      <th>top_k_accuracy</th>\n",
              "      <th>time</th>\n",
              "    </tr>\n",
              "  </thead>\n",
              "  <tbody>\n",
              "    <tr>\n",
              "      <td>0</td>\n",
              "      <td>1.922206</td>\n",
              "      <td>2.010830</td>\n",
              "      <td>0.385849</td>\n",
              "      <td>0.847798</td>\n",
              "      <td>01:30</td>\n",
              "    </tr>\n",
              "    <tr>\n",
              "      <td>1</td>\n",
              "      <td>1.714483</td>\n",
              "      <td>1.780673</td>\n",
              "      <td>0.483075</td>\n",
              "      <td>0.894375</td>\n",
              "      <td>01:30</td>\n",
              "    </tr>\n",
              "    <tr>\n",
              "      <td>2</td>\n",
              "      <td>1.596038</td>\n",
              "      <td>1.666747</td>\n",
              "      <td>0.524561</td>\n",
              "      <td>0.907356</td>\n",
              "      <td>01:31</td>\n",
              "    </tr>\n",
              "    <tr>\n",
              "      <td>3</td>\n",
              "      <td>1.472262</td>\n",
              "      <td>1.520251</td>\n",
              "      <td>0.589972</td>\n",
              "      <td>0.922627</td>\n",
              "      <td>01:31</td>\n",
              "    </tr>\n",
              "    <tr>\n",
              "      <td>4</td>\n",
              "      <td>1.331738</td>\n",
              "      <td>1.400042</td>\n",
              "      <td>0.627895</td>\n",
              "      <td>0.945279</td>\n",
              "      <td>01:31</td>\n",
              "    </tr>\n",
              "  </tbody>\n",
              "</table>"
            ]
          },
          "metadata": {
            "tags": []
          }
        },
        {
          "output_type": "stream",
          "text": [
            "\t\t\tWithout DECONV\n"
          ],
          "name": "stdout"
        },
        {
          "output_type": "display_data",
          "data": {
            "text/plain": [
              "<IPython.core.display.HTML object>"
            ],
            "text/html": [
              "<table border=\"1\" class=\"dataframe\">\n",
              "  <thead>\n",
              "    <tr style=\"text-align: left;\">\n",
              "      <th>epoch</th>\n",
              "      <th>train_loss</th>\n",
              "      <th>valid_loss</th>\n",
              "      <th>accuracy</th>\n",
              "      <th>top_k_accuracy</th>\n",
              "      <th>time</th>\n",
              "    </tr>\n",
              "  </thead>\n",
              "  <tbody>\n",
              "    <tr>\n",
              "      <td>0</td>\n",
              "      <td>2.140923</td>\n",
              "      <td>2.211348</td>\n",
              "      <td>0.229320</td>\n",
              "      <td>0.755154</td>\n",
              "      <td>00:43</td>\n",
              "    </tr>\n",
              "    <tr>\n",
              "      <td>1</td>\n",
              "      <td>1.972090</td>\n",
              "      <td>2.030837</td>\n",
              "      <td>0.314329</td>\n",
              "      <td>0.822601</td>\n",
              "      <td>00:43</td>\n",
              "    </tr>\n",
              "    <tr>\n",
              "      <td>2</td>\n",
              "      <td>1.884897</td>\n",
              "      <td>2.039245</td>\n",
              "      <td>0.336727</td>\n",
              "      <td>0.844744</td>\n",
              "      <td>00:43</td>\n",
              "    </tr>\n",
              "    <tr>\n",
              "      <td>3</td>\n",
              "      <td>1.762735</td>\n",
              "      <td>2.068295</td>\n",
              "      <td>0.346908</td>\n",
              "      <td>0.812166</td>\n",
              "      <td>00:43</td>\n",
              "    </tr>\n",
              "    <tr>\n",
              "      <td>4</td>\n",
              "      <td>1.620445</td>\n",
              "      <td>1.615603</td>\n",
              "      <td>0.516925</td>\n",
              "      <td>0.916264</td>\n",
              "      <td>00:43</td>\n",
              "    </tr>\n",
              "  </tbody>\n",
              "</table>"
            ]
          },
          "metadata": {
            "tags": []
          }
        }
      ]
    },
    {
      "cell_type": "code",
      "metadata": {
        "id": "wqoAge78SySN",
        "colab_type": "code",
        "outputId": "35cf7f5e-b915-4156-cea3-0abfb2a1af30",
        "colab": {
          "base_uri": "https://localhost:8080/",
          "height": 493
        }
      },
      "source": [
        "learn = main(runs=1, lr=0.0008, arch='xresnet18', epochs=5, opt='sgd', act_fn = 'Mish', woof=1, blur=True)"
      ],
      "execution_count": 0,
      "outputs": [
        {
          "output_type": "stream",
          "text": [
            "epochs: 5; lr: 0.0008; size: 128; sqrmom: 0.99; mom: 0.9; eps: 1e-06\n",
            "fp16: 0; arch: xresnet18; wd: 0.01; act_fn: Mish; bs: 32\n",
            "pool: AvgPool; woof: 1; sh:0.0\n",
            "Run: 0\n",
            "\t\t\tDECONV\n"
          ],
          "name": "stdout"
        },
        {
          "output_type": "display_data",
          "data": {
            "text/plain": [
              "<IPython.core.display.HTML object>"
            ],
            "text/html": [
              "<table border=\"1\" class=\"dataframe\">\n",
              "  <thead>\n",
              "    <tr style=\"text-align: left;\">\n",
              "      <th>epoch</th>\n",
              "      <th>train_loss</th>\n",
              "      <th>valid_loss</th>\n",
              "      <th>accuracy</th>\n",
              "      <th>top_k_accuracy</th>\n",
              "      <th>time</th>\n",
              "    </tr>\n",
              "  </thead>\n",
              "  <tbody>\n",
              "    <tr>\n",
              "      <td>0</td>\n",
              "      <td>2.073675</td>\n",
              "      <td>2.019893</td>\n",
              "      <td>0.315347</td>\n",
              "      <td>0.806821</td>\n",
              "      <td>01:33</td>\n",
              "    </tr>\n",
              "    <tr>\n",
              "      <td>1</td>\n",
              "      <td>1.939437</td>\n",
              "      <td>1.891710</td>\n",
              "      <td>0.396793</td>\n",
              "      <td>0.850598</td>\n",
              "      <td>01:34</td>\n",
              "    </tr>\n",
              "    <tr>\n",
              "      <td>2</td>\n",
              "      <td>1.810890</td>\n",
              "      <td>1.879162</td>\n",
              "      <td>0.431407</td>\n",
              "      <td>0.858997</td>\n",
              "      <td>01:34</td>\n",
              "    </tr>\n",
              "    <tr>\n",
              "      <td>3</td>\n",
              "      <td>1.721364</td>\n",
              "      <td>1.834330</td>\n",
              "      <td>0.462204</td>\n",
              "      <td>0.871469</td>\n",
              "      <td>01:34</td>\n",
              "    </tr>\n",
              "    <tr>\n",
              "      <td>4</td>\n",
              "      <td>1.640329</td>\n",
              "      <td>1.786612</td>\n",
              "      <td>0.480275</td>\n",
              "      <td>0.878341</td>\n",
              "      <td>01:34</td>\n",
              "    </tr>\n",
              "  </tbody>\n",
              "</table>"
            ]
          },
          "metadata": {
            "tags": []
          }
        },
        {
          "output_type": "stream",
          "text": [
            "\t\t\tWithout DECONV\n"
          ],
          "name": "stdout"
        },
        {
          "output_type": "display_data",
          "data": {
            "text/plain": [
              "<IPython.core.display.HTML object>"
            ],
            "text/html": [
              "<table border=\"1\" class=\"dataframe\">\n",
              "  <thead>\n",
              "    <tr style=\"text-align: left;\">\n",
              "      <th>epoch</th>\n",
              "      <th>train_loss</th>\n",
              "      <th>valid_loss</th>\n",
              "      <th>accuracy</th>\n",
              "      <th>top_k_accuracy</th>\n",
              "      <th>time</th>\n",
              "    </tr>\n",
              "  </thead>\n",
              "  <tbody>\n",
              "    <tr>\n",
              "      <td>0</td>\n",
              "      <td>2.158818</td>\n",
              "      <td>2.156596</td>\n",
              "      <td>0.233647</td>\n",
              "      <td>0.733011</td>\n",
              "      <td>00:46</td>\n",
              "    </tr>\n",
              "    <tr>\n",
              "      <td>1</td>\n",
              "      <td>2.122006</td>\n",
              "      <td>2.108923</td>\n",
              "      <td>0.259099</td>\n",
              "      <td>0.757190</td>\n",
              "      <td>00:46</td>\n",
              "    </tr>\n",
              "    <tr>\n",
              "      <td>2</td>\n",
              "      <td>2.071948</td>\n",
              "      <td>2.069324</td>\n",
              "      <td>0.279969</td>\n",
              "      <td>0.795113</td>\n",
              "      <td>00:46</td>\n",
              "    </tr>\n",
              "    <tr>\n",
              "      <td>3</td>\n",
              "      <td>2.023926</td>\n",
              "      <td>2.036589</td>\n",
              "      <td>0.293713</td>\n",
              "      <td>0.806567</td>\n",
              "      <td>00:46</td>\n",
              "    </tr>\n",
              "    <tr>\n",
              "      <td>4</td>\n",
              "      <td>2.002402</td>\n",
              "      <td>2.014189</td>\n",
              "      <td>0.318402</td>\n",
              "      <td>0.806058</td>\n",
              "      <td>00:46</td>\n",
              "    </tr>\n",
              "  </tbody>\n",
              "</table>"
            ]
          },
          "metadata": {
            "tags": []
          }
        }
      ]
    },
    {
      "cell_type": "code",
      "metadata": {
        "id": "2jZWal3UBxtu",
        "colab_type": "code",
        "outputId": "e5db647b-5435-4b9d-c6a1-6d9aaa1bfb70",
        "colab": {
          "base_uri": "https://localhost:8080/",
          "height": 918
        }
      },
      "source": [
        "learn = main(runs=2, lr=0.0008, arch='xresnet18', epochs=5, opt='ranger', act_fn = 'inplace_relu', blur=True)"
      ],
      "execution_count": 0,
      "outputs": [
        {
          "output_type": "stream",
          "text": [
            "epochs: 5; lr: 0.0008; size: 128; sqrmom: 0.99; mom: 0.9; eps: 1e-06\n",
            "fp16: 0; arch: xresnet18; wd: 0.01; act_fn: inplace_relu; bs: 32\n",
            "pool: AvgPool; woof: 1; sh:0.0\n",
            "Run: 0\n",
            "\t\t\tDECONV\n"
          ],
          "name": "stdout"
        },
        {
          "output_type": "display_data",
          "data": {
            "text/plain": [
              "<IPython.core.display.HTML object>"
            ],
            "text/html": [
              "<table border=\"1\" class=\"dataframe\">\n",
              "  <thead>\n",
              "    <tr style=\"text-align: left;\">\n",
              "      <th>epoch</th>\n",
              "      <th>train_loss</th>\n",
              "      <th>valid_loss</th>\n",
              "      <th>accuracy</th>\n",
              "      <th>top_k_accuracy</th>\n",
              "      <th>time</th>\n",
              "    </tr>\n",
              "  </thead>\n",
              "  <tbody>\n",
              "    <tr>\n",
              "      <td>0</td>\n",
              "      <td>2.006927</td>\n",
              "      <td>2.096415</td>\n",
              "      <td>0.356579</td>\n",
              "      <td>0.814966</td>\n",
              "      <td>01:33</td>\n",
              "    </tr>\n",
              "    <tr>\n",
              "      <td>1</td>\n",
              "      <td>1.842004</td>\n",
              "      <td>1.905671</td>\n",
              "      <td>0.425554</td>\n",
              "      <td>0.865615</td>\n",
              "      <td>01:33</td>\n",
              "    </tr>\n",
              "    <tr>\n",
              "      <td>2</td>\n",
              "      <td>1.692095</td>\n",
              "      <td>1.724472</td>\n",
              "      <td>0.495546</td>\n",
              "      <td>0.894630</td>\n",
              "      <td>01:32</td>\n",
              "    </tr>\n",
              "    <tr>\n",
              "      <td>3</td>\n",
              "      <td>1.571453</td>\n",
              "      <td>1.602531</td>\n",
              "      <td>0.540850</td>\n",
              "      <td>0.915500</td>\n",
              "      <td>01:32</td>\n",
              "    </tr>\n",
              "    <tr>\n",
              "      <td>4</td>\n",
              "      <td>1.428722</td>\n",
              "      <td>1.480094</td>\n",
              "      <td>0.588190</td>\n",
              "      <td>0.931789</td>\n",
              "      <td>01:33</td>\n",
              "    </tr>\n",
              "  </tbody>\n",
              "</table>"
            ]
          },
          "metadata": {
            "tags": []
          }
        },
        {
          "output_type": "stream",
          "text": [
            "\t\t\tWithout DECONV\n"
          ],
          "name": "stdout"
        },
        {
          "output_type": "display_data",
          "data": {
            "text/plain": [
              "<IPython.core.display.HTML object>"
            ],
            "text/html": [
              "<table border=\"1\" class=\"dataframe\">\n",
              "  <thead>\n",
              "    <tr style=\"text-align: left;\">\n",
              "      <th>epoch</th>\n",
              "      <th>train_loss</th>\n",
              "      <th>valid_loss</th>\n",
              "      <th>accuracy</th>\n",
              "      <th>top_k_accuracy</th>\n",
              "      <th>time</th>\n",
              "    </tr>\n",
              "  </thead>\n",
              "  <tbody>\n",
              "    <tr>\n",
              "      <td>0</td>\n",
              "      <td>2.015514</td>\n",
              "      <td>1.950760</td>\n",
              "      <td>0.337490</td>\n",
              "      <td>0.836345</td>\n",
              "      <td>00:45</td>\n",
              "    </tr>\n",
              "    <tr>\n",
              "      <td>1</td>\n",
              "      <td>1.816131</td>\n",
              "      <td>1.778233</td>\n",
              "      <td>0.420209</td>\n",
              "      <td>0.877577</td>\n",
              "      <td>00:45</td>\n",
              "    </tr>\n",
              "    <tr>\n",
              "      <td>2</td>\n",
              "      <td>1.688105</td>\n",
              "      <td>1.634967</td>\n",
              "      <td>0.498600</td>\n",
              "      <td>0.909646</td>\n",
              "      <td>00:45</td>\n",
              "    </tr>\n",
              "    <tr>\n",
              "      <td>3</td>\n",
              "      <td>1.550324</td>\n",
              "      <td>1.605282</td>\n",
              "      <td>0.511072</td>\n",
              "      <td>0.912955</td>\n",
              "      <td>00:45</td>\n",
              "    </tr>\n",
              "    <tr>\n",
              "      <td>4</td>\n",
              "      <td>1.391209</td>\n",
              "      <td>1.436654</td>\n",
              "      <td>0.594553</td>\n",
              "      <td>0.939425</td>\n",
              "      <td>00:45</td>\n",
              "    </tr>\n",
              "  </tbody>\n",
              "</table>"
            ]
          },
          "metadata": {
            "tags": []
          }
        },
        {
          "output_type": "stream",
          "text": [
            "Run: 1\n",
            "\t\t\tDECONV\n"
          ],
          "name": "stdout"
        },
        {
          "output_type": "display_data",
          "data": {
            "text/plain": [
              "<IPython.core.display.HTML object>"
            ],
            "text/html": [
              "<table border=\"1\" class=\"dataframe\">\n",
              "  <thead>\n",
              "    <tr style=\"text-align: left;\">\n",
              "      <th>epoch</th>\n",
              "      <th>train_loss</th>\n",
              "      <th>valid_loss</th>\n",
              "      <th>accuracy</th>\n",
              "      <th>top_k_accuracy</th>\n",
              "      <th>time</th>\n",
              "    </tr>\n",
              "  </thead>\n",
              "  <tbody>\n",
              "    <tr>\n",
              "      <td>0</td>\n",
              "      <td>1.991459</td>\n",
              "      <td>2.101458</td>\n",
              "      <td>0.348944</td>\n",
              "      <td>0.824892</td>\n",
              "      <td>01:31</td>\n",
              "    </tr>\n",
              "    <tr>\n",
              "      <td>1</td>\n",
              "      <td>1.823198</td>\n",
              "      <td>1.847709</td>\n",
              "      <td>0.446933</td>\n",
              "      <td>0.872996</td>\n",
              "      <td>01:32</td>\n",
              "    </tr>\n",
              "    <tr>\n",
              "      <td>2</td>\n",
              "      <td>1.696139</td>\n",
              "      <td>1.710647</td>\n",
              "      <td>0.496819</td>\n",
              "      <td>0.896666</td>\n",
              "      <td>01:32</td>\n",
              "    </tr>\n",
              "    <tr>\n",
              "      <td>3</td>\n",
              "      <td>1.572807</td>\n",
              "      <td>1.580114</td>\n",
              "      <td>0.540087</td>\n",
              "      <td>0.919063</td>\n",
              "      <td>01:33</td>\n",
              "    </tr>\n",
              "    <tr>\n",
              "      <td>4</td>\n",
              "      <td>1.420439</td>\n",
              "      <td>1.456816</td>\n",
              "      <td>0.598880</td>\n",
              "      <td>0.933571</td>\n",
              "      <td>01:33</td>\n",
              "    </tr>\n",
              "  </tbody>\n",
              "</table>"
            ]
          },
          "metadata": {
            "tags": []
          }
        },
        {
          "output_type": "stream",
          "text": [
            "\t\t\tWithout DECONV\n"
          ],
          "name": "stdout"
        },
        {
          "output_type": "display_data",
          "data": {
            "text/plain": [
              "<IPython.core.display.HTML object>"
            ],
            "text/html": [
              "<table border=\"1\" class=\"dataframe\">\n",
              "  <thead>\n",
              "    <tr style=\"text-align: left;\">\n",
              "      <th>epoch</th>\n",
              "      <th>train_loss</th>\n",
              "      <th>valid_loss</th>\n",
              "      <th>accuracy</th>\n",
              "      <th>top_k_accuracy</th>\n",
              "      <th>time</th>\n",
              "    </tr>\n",
              "  </thead>\n",
              "  <tbody>\n",
              "    <tr>\n",
              "      <td>0</td>\n",
              "      <td>2.030907</td>\n",
              "      <td>1.950596</td>\n",
              "      <td>0.331382</td>\n",
              "      <td>0.831255</td>\n",
              "      <td>00:45</td>\n",
              "    </tr>\n",
              "    <tr>\n",
              "      <td>1</td>\n",
              "      <td>1.821047</td>\n",
              "      <td>1.770274</td>\n",
              "      <td>0.428353</td>\n",
              "      <td>0.880631</td>\n",
              "      <td>00:45</td>\n",
              "    </tr>\n",
              "    <tr>\n",
              "      <td>2</td>\n",
              "      <td>1.689300</td>\n",
              "      <td>1.690474</td>\n",
              "      <td>0.462459</td>\n",
              "      <td>0.898956</td>\n",
              "      <td>00:45</td>\n",
              "    </tr>\n",
              "    <tr>\n",
              "      <td>3</td>\n",
              "      <td>1.596195</td>\n",
              "      <td>1.561994</td>\n",
              "      <td>0.527870</td>\n",
              "      <td>0.921354</td>\n",
              "      <td>00:45</td>\n",
              "    </tr>\n",
              "    <tr>\n",
              "      <td>4</td>\n",
              "      <td>1.415845</td>\n",
              "      <td>1.441379</td>\n",
              "      <td>0.581827</td>\n",
              "      <td>0.939934</td>\n",
              "      <td>00:45</td>\n",
              "    </tr>\n",
              "  </tbody>\n",
              "</table>"
            ]
          },
          "metadata": {
            "tags": []
          }
        }
      ]
    },
    {
      "cell_type": "code",
      "metadata": {
        "id": "MHfr2eih9mt8",
        "colab_type": "code",
        "outputId": "52813d09-169d-486c-d041-ff08e0cca210",
        "colab": {
          "base_uri": "https://localhost:8080/",
          "height": 837
        }
      },
      "source": [
        "lr = 0.0008\n",
        "arch='mini_net'\n",
        "torch.cuda.empty_cache()\n",
        "learn = main(runs=1, arch=arch, epochs=10, woof=1)"
      ],
      "execution_count": 0,
      "outputs": [
        {
          "output_type": "stream",
          "text": [
            "epochs: 10; lr: 0.01; size: 128; sqrmom: 0.99; mom: 0.9; eps: 1e-06\n",
            "fp16: 0; arch: mini_net; wd: 0.01; act_fn: MishJit; bs: 32\n",
            "pool: AvgPool; woof: 1; sh:0.0\n",
            "Run: 0\n",
            "\t\t\tDECONV\n",
            "block=<function SEResNeXtBlock at 0x7f91600cfcb0> expansion=1 layers=[1, 1, 1, 1] groups=64 reduction=8\n"
          ],
          "name": "stdout"
        },
        {
          "output_type": "display_data",
          "data": {
            "text/plain": [
              "<IPython.core.display.HTML object>"
            ],
            "text/html": [
              "<table border=\"1\" class=\"dataframe\">\n",
              "  <thead>\n",
              "    <tr style=\"text-align: left;\">\n",
              "      <th>epoch</th>\n",
              "      <th>train_loss</th>\n",
              "      <th>valid_loss</th>\n",
              "      <th>accuracy</th>\n",
              "      <th>top_k_accuracy</th>\n",
              "      <th>time</th>\n",
              "    </tr>\n",
              "  </thead>\n",
              "  <tbody>\n",
              "    <tr>\n",
              "      <td>0</td>\n",
              "      <td>1.973225</td>\n",
              "      <td>2.099018</td>\n",
              "      <td>0.345126</td>\n",
              "      <td>0.849071</td>\n",
              "      <td>01:37</td>\n",
              "    </tr>\n",
              "    <tr>\n",
              "      <td>1</td>\n",
              "      <td>1.930817</td>\n",
              "      <td>1.909411</td>\n",
              "      <td>0.382795</td>\n",
              "      <td>0.860524</td>\n",
              "      <td>01:33</td>\n",
              "    </tr>\n",
              "    <tr>\n",
              "      <td>2</td>\n",
              "      <td>1.900944</td>\n",
              "      <td>2.072319</td>\n",
              "      <td>0.351489</td>\n",
              "      <td>0.821074</td>\n",
              "      <td>01:34</td>\n",
              "    </tr>\n",
              "    <tr>\n",
              "      <td>3</td>\n",
              "      <td>1.705998</td>\n",
              "      <td>1.651882</td>\n",
              "      <td>0.500382</td>\n",
              "      <td>0.918045</td>\n",
              "      <td>01:34</td>\n",
              "    </tr>\n",
              "    <tr>\n",
              "      <td>4</td>\n",
              "      <td>1.555969</td>\n",
              "      <td>1.485049</td>\n",
              "      <td>0.582336</td>\n",
              "      <td>0.934843</td>\n",
              "      <td>01:34</td>\n",
              "    </tr>\n",
              "    <tr>\n",
              "      <td>5</td>\n",
              "      <td>1.400325</td>\n",
              "      <td>1.399282</td>\n",
              "      <td>0.618223</td>\n",
              "      <td>0.943752</td>\n",
              "      <td>01:34</td>\n",
              "    </tr>\n",
              "    <tr>\n",
              "      <td>6</td>\n",
              "      <td>1.310184</td>\n",
              "      <td>1.322918</td>\n",
              "      <td>0.663782</td>\n",
              "      <td>0.955459</td>\n",
              "      <td>01:35</td>\n",
              "    </tr>\n",
              "    <tr>\n",
              "      <td>7</td>\n",
              "      <td>1.263913</td>\n",
              "      <td>1.263023</td>\n",
              "      <td>0.689488</td>\n",
              "      <td>0.961313</td>\n",
              "      <td>01:34</td>\n",
              "    </tr>\n",
              "    <tr>\n",
              "      <td>8</td>\n",
              "      <td>1.104485</td>\n",
              "      <td>1.201866</td>\n",
              "      <td>0.728175</td>\n",
              "      <td>0.959786</td>\n",
              "      <td>01:34</td>\n",
              "    </tr>\n",
              "    <tr>\n",
              "      <td>9</td>\n",
              "      <td>0.997944</td>\n",
              "      <td>1.207138</td>\n",
              "      <td>0.743446</td>\n",
              "      <td>0.957496</td>\n",
              "      <td>01:34</td>\n",
              "    </tr>\n",
              "  </tbody>\n",
              "</table>"
            ]
          },
          "metadata": {
            "tags": []
          }
        },
        {
          "output_type": "stream",
          "text": [
            "\t\t\tWithout DECONV\n",
            "block=<function SEResNeXtBlock at 0x7f91600cfcb0> expansion=1 layers=[1, 1, 1, 1] groups=64 reduction=8\n"
          ],
          "name": "stdout"
        },
        {
          "output_type": "display_data",
          "data": {
            "text/plain": [
              "<IPython.core.display.HTML object>"
            ],
            "text/html": [
              "<table border=\"1\" class=\"dataframe\">\n",
              "  <thead>\n",
              "    <tr style=\"text-align: left;\">\n",
              "      <th>epoch</th>\n",
              "      <th>train_loss</th>\n",
              "      <th>valid_loss</th>\n",
              "      <th>accuracy</th>\n",
              "      <th>top_k_accuracy</th>\n",
              "      <th>time</th>\n",
              "    </tr>\n",
              "  </thead>\n",
              "  <tbody>\n",
              "    <tr>\n",
              "      <td>0</td>\n",
              "      <td>2.027822</td>\n",
              "      <td>1.948223</td>\n",
              "      <td>0.340545</td>\n",
              "      <td>0.850344</td>\n",
              "      <td>00:46</td>\n",
              "    </tr>\n",
              "    <tr>\n",
              "      <td>1</td>\n",
              "      <td>1.760559</td>\n",
              "      <td>1.655803</td>\n",
              "      <td>0.465767</td>\n",
              "      <td>0.916009</td>\n",
              "      <td>00:47</td>\n",
              "    </tr>\n",
              "    <tr>\n",
              "      <td>2</td>\n",
              "      <td>1.504936</td>\n",
              "      <td>1.436804</td>\n",
              "      <td>0.594044</td>\n",
              "      <td>0.941970</td>\n",
              "      <td>00:47</td>\n",
              "    </tr>\n",
              "    <tr>\n",
              "      <td>3</td>\n",
              "      <td>1.399314</td>\n",
              "      <td>1.378273</td>\n",
              "      <td>0.626114</td>\n",
              "      <td>0.940952</td>\n",
              "      <td>00:47</td>\n",
              "    </tr>\n",
              "    <tr>\n",
              "      <td>4</td>\n",
              "      <td>1.277404</td>\n",
              "      <td>1.363196</td>\n",
              "      <td>0.622041</td>\n",
              "      <td>0.945279</td>\n",
              "      <td>00:46</td>\n",
              "    </tr>\n",
              "    <tr>\n",
              "      <td>5</td>\n",
              "      <td>1.171247</td>\n",
              "      <td>1.253414</td>\n",
              "      <td>0.683125</td>\n",
              "      <td>0.955205</td>\n",
              "      <td>00:46</td>\n",
              "    </tr>\n",
              "    <tr>\n",
              "      <td>6</td>\n",
              "      <td>1.090725</td>\n",
              "      <td>1.175539</td>\n",
              "      <td>0.718503</td>\n",
              "      <td>0.961568</td>\n",
              "      <td>00:46</td>\n",
              "    </tr>\n",
              "    <tr>\n",
              "      <td>7</td>\n",
              "      <td>1.031199</td>\n",
              "      <td>1.180351</td>\n",
              "      <td>0.715704</td>\n",
              "      <td>0.967676</td>\n",
              "      <td>00:46</td>\n",
              "    </tr>\n",
              "    <tr>\n",
              "      <td>8</td>\n",
              "      <td>0.887030</td>\n",
              "      <td>1.105222</td>\n",
              "      <td>0.754645</td>\n",
              "      <td>0.966149</td>\n",
              "      <td>00:46</td>\n",
              "    </tr>\n",
              "    <tr>\n",
              "      <td>9</td>\n",
              "      <td>0.751618</td>\n",
              "      <td>1.076541</td>\n",
              "      <td>0.769916</td>\n",
              "      <td>0.970221</td>\n",
              "      <td>00:47</td>\n",
              "    </tr>\n",
              "  </tbody>\n",
              "</table>"
            ]
          },
          "metadata": {
            "tags": []
          }
        }
      ]
    },
    {
      "cell_type": "code",
      "metadata": {
        "id": "4b_c4LkUTwRW",
        "colab_type": "code",
        "outputId": "50096b09-e7b2-4d2c-9f87-109926422f10",
        "colab": {
          "base_uri": "https://localhost:8080/",
          "height": 493
        }
      },
      "source": [
        "learn = main(runs=1, lr=0.0008, arch='xresnet18', epochs=5, opt='sgd', act_fn = 'Mish', woof=1, blur=False)"
      ],
      "execution_count": 0,
      "outputs": [
        {
          "output_type": "stream",
          "text": [
            "epochs: 5; lr: 0.0008; size: 128; sqrmom: 0.99; mom: 0.9; eps: 1e-06\n",
            "fp16: 0; arch: xresnet18; wd: 0.01; act_fn: Mish; bs: 32\n",
            "pool: AvgPool; woof: 1; sh:0.0\n",
            "Run: 0\n",
            "\t\t\tDECONV\n"
          ],
          "name": "stdout"
        },
        {
          "output_type": "display_data",
          "data": {
            "text/plain": [
              "<IPython.core.display.HTML object>"
            ],
            "text/html": [
              "<table border=\"1\" class=\"dataframe\">\n",
              "  <thead>\n",
              "    <tr style=\"text-align: left;\">\n",
              "      <th>epoch</th>\n",
              "      <th>train_loss</th>\n",
              "      <th>valid_loss</th>\n",
              "      <th>accuracy</th>\n",
              "      <th>top_k_accuracy</th>\n",
              "      <th>time</th>\n",
              "    </tr>\n",
              "  </thead>\n",
              "  <tbody>\n",
              "    <tr>\n",
              "      <td>0</td>\n",
              "      <td>2.129776</td>\n",
              "      <td>2.080911</td>\n",
              "      <td>0.296768</td>\n",
              "      <td>0.777552</td>\n",
              "      <td>01:32</td>\n",
              "    </tr>\n",
              "    <tr>\n",
              "      <td>1</td>\n",
              "      <td>1.979810</td>\n",
              "      <td>1.982046</td>\n",
              "      <td>0.350471</td>\n",
              "      <td>0.821838</td>\n",
              "      <td>01:33</td>\n",
              "    </tr>\n",
              "    <tr>\n",
              "      <td>2</td>\n",
              "      <td>1.903762</td>\n",
              "      <td>1.920782</td>\n",
              "      <td>0.391448</td>\n",
              "      <td>0.845508</td>\n",
              "      <td>01:34</td>\n",
              "    </tr>\n",
              "    <tr>\n",
              "      <td>3</td>\n",
              "      <td>1.826130</td>\n",
              "      <td>1.895648</td>\n",
              "      <td>0.417409</td>\n",
              "      <td>0.852380</td>\n",
              "      <td>01:34</td>\n",
              "    </tr>\n",
              "    <tr>\n",
              "      <td>4</td>\n",
              "      <td>1.764413</td>\n",
              "      <td>1.845779</td>\n",
              "      <td>0.432171</td>\n",
              "      <td>0.867905</td>\n",
              "      <td>01:33</td>\n",
              "    </tr>\n",
              "  </tbody>\n",
              "</table>"
            ]
          },
          "metadata": {
            "tags": []
          }
        },
        {
          "output_type": "stream",
          "text": [
            "\t\t\tWithout DECONV\n"
          ],
          "name": "stdout"
        },
        {
          "output_type": "display_data",
          "data": {
            "text/plain": [
              "<IPython.core.display.HTML object>"
            ],
            "text/html": [
              "<table border=\"1\" class=\"dataframe\">\n",
              "  <thead>\n",
              "    <tr style=\"text-align: left;\">\n",
              "      <th>epoch</th>\n",
              "      <th>train_loss</th>\n",
              "      <th>valid_loss</th>\n",
              "      <th>accuracy</th>\n",
              "      <th>top_k_accuracy</th>\n",
              "      <th>time</th>\n",
              "    </tr>\n",
              "  </thead>\n",
              "  <tbody>\n",
              "    <tr>\n",
              "      <td>0</td>\n",
              "      <td>2.166461</td>\n",
              "      <td>2.148823</td>\n",
              "      <td>0.236956</td>\n",
              "      <td>0.737592</td>\n",
              "      <td>00:45</td>\n",
              "    </tr>\n",
              "    <tr>\n",
              "      <td>1</td>\n",
              "      <td>2.120162</td>\n",
              "      <td>2.101223</td>\n",
              "      <td>0.259099</td>\n",
              "      <td>0.765844</td>\n",
              "      <td>00:45</td>\n",
              "    </tr>\n",
              "    <tr>\n",
              "      <td>2</td>\n",
              "      <td>2.071605</td>\n",
              "      <td>2.073781</td>\n",
              "      <td>0.283787</td>\n",
              "      <td>0.785951</td>\n",
              "      <td>00:45</td>\n",
              "    </tr>\n",
              "    <tr>\n",
              "      <td>3</td>\n",
              "      <td>2.034424</td>\n",
              "      <td>2.035709</td>\n",
              "      <td>0.294731</td>\n",
              "      <td>0.801476</td>\n",
              "      <td>00:45</td>\n",
              "    </tr>\n",
              "    <tr>\n",
              "      <td>4</td>\n",
              "      <td>2.010490</td>\n",
              "      <td>2.013199</td>\n",
              "      <td>0.305676</td>\n",
              "      <td>0.818783</td>\n",
              "      <td>00:45</td>\n",
              "    </tr>\n",
              "  </tbody>\n",
              "</table>"
            ]
          },
          "metadata": {
            "tags": []
          }
        }
      ]
    },
    {
      "cell_type": "markdown",
      "metadata": {
        "id": "oTzgvHsUtra0",
        "colab_type": "text"
      },
      "source": [
        "## Using image size 256 instead of 128."
      ]
    },
    {
      "cell_type": "code",
      "metadata": {
        "id": "hlooGGuYusTE",
        "colab_type": "code",
        "colab": {}
      },
      "source": [
        "import gc; gc.collect()\n",
        "torch.cuda.empty_cache()"
      ],
      "execution_count": 0,
      "outputs": []
    },
    {
      "cell_type": "code",
      "metadata": {
        "id": "uF_fxexktxgD",
        "colab_type": "code",
        "outputId": "4bed6177-5b42-4436-a436-edd66c2307d2",
        "colab": {
          "base_uri": "https://localhost:8080/",
          "height": 547
        }
      },
      "source": [
        "torch.cuda.set_device(0)\n",
        "lr = 0.001\n",
        "arch='mini_net'\n",
        "learn = main(runs=1, lr=lr, bs=16, size=256, arch=arch, epochs=5, woof=1)"
      ],
      "execution_count": 0,
      "outputs": [
        {
          "output_type": "stream",
          "text": [
            "epochs: 5; lr: 0.001; size: 256; sqrmom: 0.99; mom: 0.9; eps: 1e-06\n",
            "fp16: 0; arch: mini_net; wd: 0.01; act_fn: MishJit; bs: 16\n",
            "pool: AvgPool; woof: 1; sh:0.0\n",
            "Run: 0\n",
            "\t\t\tDECONV\n",
            "block=<function SEResNeXtBlock at 0x7f91600cfcb0> expansion=1 layers=[1, 1, 1, 1] groups=64 reduction=8\n"
          ],
          "name": "stdout"
        },
        {
          "output_type": "display_data",
          "data": {
            "text/plain": [
              "<IPython.core.display.HTML object>"
            ],
            "text/html": [
              "<table border=\"1\" class=\"dataframe\">\n",
              "  <thead>\n",
              "    <tr style=\"text-align: left;\">\n",
              "      <th>epoch</th>\n",
              "      <th>train_loss</th>\n",
              "      <th>valid_loss</th>\n",
              "      <th>accuracy</th>\n",
              "      <th>top_k_accuracy</th>\n",
              "      <th>time</th>\n",
              "    </tr>\n",
              "  </thead>\n",
              "  <tbody>\n",
              "    <tr>\n",
              "      <td>0</td>\n",
              "      <td>1.874171</td>\n",
              "      <td>1.860473</td>\n",
              "      <td>0.434207</td>\n",
              "      <td>0.868160</td>\n",
              "      <td>04:51</td>\n",
              "    </tr>\n",
              "    <tr>\n",
              "      <td>1</td>\n",
              "      <td>1.673556</td>\n",
              "      <td>1.604973</td>\n",
              "      <td>0.547722</td>\n",
              "      <td>0.923390</td>\n",
              "      <td>04:40</td>\n",
              "    </tr>\n",
              "    <tr>\n",
              "      <td>2</td>\n",
              "      <td>1.493087</td>\n",
              "      <td>1.500717</td>\n",
              "      <td>0.607534</td>\n",
              "      <td>0.937898</td>\n",
              "      <td>04:41</td>\n",
              "    </tr>\n",
              "    <tr>\n",
              "      <td>3</td>\n",
              "      <td>1.356551</td>\n",
              "      <td>1.326171</td>\n",
              "      <td>0.679562</td>\n",
              "      <td>0.958259</td>\n",
              "      <td>04:40</td>\n",
              "    </tr>\n",
              "    <tr>\n",
              "      <td>4</td>\n",
              "      <td>1.245452</td>\n",
              "      <td>1.260222</td>\n",
              "      <td>0.714940</td>\n",
              "      <td>0.964622</td>\n",
              "      <td>04:40</td>\n",
              "    </tr>\n",
              "  </tbody>\n",
              "</table>"
            ]
          },
          "metadata": {
            "tags": []
          }
        },
        {
          "output_type": "stream",
          "text": [
            "Without DECONV\n",
            "block=<function SEResNeXtBlock at 0x7f91600cfcb0> expansion=1 layers=[1, 1, 1, 1] groups=64 reduction=8\n"
          ],
          "name": "stdout"
        },
        {
          "output_type": "display_data",
          "data": {
            "text/plain": [
              "<IPython.core.display.HTML object>"
            ],
            "text/html": [
              "<table border=\"1\" class=\"dataframe\">\n",
              "  <thead>\n",
              "    <tr style=\"text-align: left;\">\n",
              "      <th>epoch</th>\n",
              "      <th>train_loss</th>\n",
              "      <th>valid_loss</th>\n",
              "      <th>accuracy</th>\n",
              "      <th>top_k_accuracy</th>\n",
              "      <th>time</th>\n",
              "    </tr>\n",
              "  </thead>\n",
              "  <tbody>\n",
              "    <tr>\n",
              "      <td>0</td>\n",
              "      <td>2.068933</td>\n",
              "      <td>2.054406</td>\n",
              "      <td>0.284805</td>\n",
              "      <td>0.803767</td>\n",
              "      <td>01:44</td>\n",
              "    </tr>\n",
              "    <tr>\n",
              "      <td>1</td>\n",
              "      <td>1.909468</td>\n",
              "      <td>1.871854</td>\n",
              "      <td>0.386358</td>\n",
              "      <td>0.867396</td>\n",
              "      <td>01:43</td>\n",
              "    </tr>\n",
              "    <tr>\n",
              "      <td>2</td>\n",
              "      <td>1.764579</td>\n",
              "      <td>1.675424</td>\n",
              "      <td>0.481802</td>\n",
              "      <td>0.916264</td>\n",
              "      <td>01:43</td>\n",
              "    </tr>\n",
              "    <tr>\n",
              "      <td>3</td>\n",
              "      <td>1.622934</td>\n",
              "      <td>1.569372</td>\n",
              "      <td>0.536523</td>\n",
              "      <td>0.925172</td>\n",
              "      <td>01:43</td>\n",
              "    </tr>\n",
              "    <tr>\n",
              "      <td>4</td>\n",
              "      <td>1.469302</td>\n",
              "      <td>1.435892</td>\n",
              "      <td>0.602698</td>\n",
              "      <td>0.944006</td>\n",
              "      <td>01:43</td>\n",
              "    </tr>\n",
              "  </tbody>\n",
              "</table>"
            ]
          },
          "metadata": {
            "tags": []
          }
        }
      ]
    },
    {
      "cell_type": "markdown",
      "metadata": {
        "id": "Bxduk9X65SR6",
        "colab_type": "text"
      },
      "source": [
        "#### Previous cell + (self-activation and maxblurpool)"
      ]
    },
    {
      "cell_type": "code",
      "metadata": {
        "id": "C4Q1Gndb3A3y",
        "colab_type": "code",
        "outputId": "22935edd-2d14-47fd-e75d-a5bc05736848",
        "colab": {
          "base_uri": "https://localhost:8080/",
          "height": 615
        }
      },
      "source": [
        "torch.cuda.set_device(0)\n",
        "lr = 0.001\n",
        "arch='mini_net'\n",
        "learn = main(runs=1, lr=lr, bs=16, size=256, arch=arch, epochs=5, sa=1, woof=1, blur=True)"
      ],
      "execution_count": 0,
      "outputs": [
        {
          "output_type": "stream",
          "text": [
            "epochs: 5; lr: 0.001; size: 256; sqrmom: 0.99; mom: 0.9; eps: 1e-06\n",
            "fp16: 0; arch: mini_net; wd: 0.01; act_fn: MishJit; bs: 16\n",
            "pool: AvgPool; woof: 1; sh:0.0\n",
            "Run: 0\n",
            "\t\t\t DECONV\n"
          ],
          "name": "stdout"
        },
        {
          "output_type": "display_data",
          "data": {
            "text/plain": [
              "<IPython.core.display.HTML object>"
            ],
            "text/html": [
              "<table border=\"1\" class=\"dataframe\">\n",
              "  <thead>\n",
              "    <tr style=\"text-align: left;\">\n",
              "      <th>epoch</th>\n",
              "      <th>train_loss</th>\n",
              "      <th>valid_loss</th>\n",
              "      <th>accuracy</th>\n",
              "      <th>top_k_accuracy</th>\n",
              "      <th>time</th>\n",
              "    </tr>\n",
              "  </thead>\n",
              "  <tbody>\n",
              "    <tr>\n",
              "      <td>0</td>\n",
              "      <td>1.837138</td>\n",
              "      <td>1.839400</td>\n",
              "      <td>0.444133</td>\n",
              "      <td>0.882667</td>\n",
              "      <td>04:55</td>\n",
              "    </tr>\n",
              "    <tr>\n",
              "      <td>1</td>\n",
              "      <td>1.630294</td>\n",
              "      <td>1.542846</td>\n",
              "      <td>0.565029</td>\n",
              "      <td>0.933062</td>\n",
              "      <td>04:55</td>\n",
              "    </tr>\n",
              "    <tr>\n",
              "      <td>2</td>\n",
              "      <td>1.426165</td>\n",
              "      <td>1.389146</td>\n",
              "      <td>0.647493</td>\n",
              "      <td>0.952151</td>\n",
              "      <td>04:56</td>\n",
              "    </tr>\n",
              "    <tr>\n",
              "      <td>3</td>\n",
              "      <td>1.327596</td>\n",
              "      <td>1.275419</td>\n",
              "      <td>0.691779</td>\n",
              "      <td>0.962586</td>\n",
              "      <td>04:56</td>\n",
              "    </tr>\n",
              "    <tr>\n",
              "      <td>4</td>\n",
              "      <td>1.181897</td>\n",
              "      <td>1.196079</td>\n",
              "      <td>0.743701</td>\n",
              "      <td>0.971240</td>\n",
              "      <td>04:56</td>\n",
              "    </tr>\n",
              "  </tbody>\n",
              "</table>"
            ]
          },
          "metadata": {
            "tags": []
          }
        },
        {
          "output_type": "stream",
          "text": [
            "/pytorch/torch/csrc/utils/python_arg_parser.cpp:756: UserWarning: This overload of addmm is deprecated:\n",
            "\taddmm(Number beta, Tensor input, Number alpha, Tensor mat1, Tensor mat2, *, Tensor out)\n",
            "Consider using one of the following signatures instead:\n",
            "\taddmm(Tensor input, Tensor mat1, Tensor mat2, *, Number beta, Number alpha, Tensor out)\n",
            "/root/anaconda3/lib/python3.7/site-packages/torch/nn/functional.py:2854: UserWarning: The default behavior for interpolate/upsample with float scale_factor will change in 1.6.0 to align with other frameworks/libraries, and use scale_factor directly, instead of relying on the computed output size. If you wish to keep the old behavior, please set recompute_scale_factor=True. See the documentation of nn.Upsample for details. \n",
            "  warnings.warn(\"The default behavior for interpolate/upsample with float scale_factor will change \"\n"
          ],
          "name": "stderr"
        },
        {
          "output_type": "stream",
          "text": [
            "\t\t\t Without DECONV\n"
          ],
          "name": "stdout"
        },
        {
          "output_type": "display_data",
          "data": {
            "text/plain": [
              "<IPython.core.display.HTML object>"
            ],
            "text/html": [
              "<table border=\"1\" class=\"dataframe\">\n",
              "  <thead>\n",
              "    <tr style=\"text-align: left;\">\n",
              "      <th>epoch</th>\n",
              "      <th>train_loss</th>\n",
              "      <th>valid_loss</th>\n",
              "      <th>accuracy</th>\n",
              "      <th>top_k_accuracy</th>\n",
              "      <th>time</th>\n",
              "    </tr>\n",
              "  </thead>\n",
              "  <tbody>\n",
              "    <tr>\n",
              "      <td>0</td>\n",
              "      <td>2.107565</td>\n",
              "      <td>2.069040</td>\n",
              "      <td>0.276661</td>\n",
              "      <td>0.789005</td>\n",
              "      <td>01:55</td>\n",
              "    </tr>\n",
              "    <tr>\n",
              "      <td>1</td>\n",
              "      <td>1.915418</td>\n",
              "      <td>1.816119</td>\n",
              "      <td>0.417154</td>\n",
              "      <td>0.876050</td>\n",
              "      <td>01:55</td>\n",
              "    </tr>\n",
              "    <tr>\n",
              "      <td>2</td>\n",
              "      <td>1.698346</td>\n",
              "      <td>1.670910</td>\n",
              "      <td>0.474930</td>\n",
              "      <td>0.923390</td>\n",
              "      <td>01:55</td>\n",
              "    </tr>\n",
              "    <tr>\n",
              "      <td>3</td>\n",
              "      <td>1.573545</td>\n",
              "      <td>1.529501</td>\n",
              "      <td>0.557648</td>\n",
              "      <td>0.929244</td>\n",
              "      <td>01:55</td>\n",
              "    </tr>\n",
              "    <tr>\n",
              "      <td>4</td>\n",
              "      <td>1.398655</td>\n",
              "      <td>1.367100</td>\n",
              "      <td>0.634513</td>\n",
              "      <td>0.956477</td>\n",
              "      <td>01:55</td>\n",
              "    </tr>\n",
              "  </tbody>\n",
              "</table>"
            ]
          },
          "metadata": {
            "tags": []
          }
        }
      ]
    },
    {
      "cell_type": "markdown",
      "metadata": {
        "id": "SyeOg0-hAXNV",
        "colab_type": "text"
      },
      "source": [
        "Improvements in big images seems larger than small images."
      ]
    }
  ]
}